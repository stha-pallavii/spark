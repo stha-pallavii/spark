{
 "cells": [
  {
   "cell_type": "markdown",
   "metadata": {},
   "source": [
    "## Chaining\n",
    "We can **chain** transformations and action to create a computation **pipeline**\n",
    "Suppose we want to compute the sum of the squares\n",
    "$$ \\sum_{i=1}^n x_i^2 $$\n",
    "where the elements $x_i$ are stored in an RDD."
   ]
  },
  {
   "cell_type": "markdown",
   "metadata": {},
   "source": [
    "### Start the `SparkContext`"
   ]
  },
  {
   "cell_type": "code",
   "execution_count": 1,
   "metadata": {},
   "outputs": [
    {
     "name": "stdout",
     "output_type": "stream",
     "text": [
      "22/10/17 12:04:36 WARN Utils: Your hostname, pallavi-XPS-13-7390 resolves to a loopback address: 127.0.1.1; using 192.168.1.81 instead (on interface wlp2s0)\n",
      "22/10/17 12:04:36 WARN Utils: Set SPARK_LOCAL_IP if you need to bind to another address\n"
     ]
    },
    {
     "name": "stderr",
     "output_type": "stream",
     "text": [
      "Setting default log level to \"WARN\".\n",
      "To adjust logging level use sc.setLogLevel(newLevel). For SparkR, use setLogLevel(newLevel).\n"
     ]
    },
    {
     "name": "stdout",
     "output_type": "stream",
     "text": [
      "22/10/17 12:04:37 WARN NativeCodeLoader: Unable to load native-hadoop library for your platform... using builtin-java classes where applicable\n",
      "22/10/17 12:04:38 WARN Utils: Service 'SparkUI' could not bind on port 4040. Attempting port 4041.\n",
      "22/10/17 12:04:38 WARN Utils: Service 'SparkUI' could not bind on port 4041. Attempting port 4042.\n"
     ]
    }
   ],
   "source": [
    "import numpy as np\n",
    "from pyspark import SparkContext\n",
    "sc = SparkContext(master=\"local[4]\")"
   ]
  },
  {
   "cell_type": "code",
   "execution_count": 2,
   "metadata": {},
   "outputs": [
    {
     "name": "stdout",
     "output_type": "stream",
     "text": [
      "7, 7, 5, 8, 3, 7, 3, 6, 1, 7, 5, 6, 5, 3, 1, 3, 4, 1, 6, 3, 6, 1, 8, 7, 8, 5, 6, 4, 8, 1, 8, 2, 7, 9, 5, 9, 7, 0, 4, 2, 0, 7, 8, 6, 6, 1, 0, 3, 9, 5, 6, 3, 1, 5, 9, 7, 9, 0, 2, 4, 3, 7, 7, 6, 1, 3, 5, 9, 8, 4, 0, 8, 8, 0, 2, 3, 3, 4, 6, 5, 1, 2, 5, 2, 2, 5, 3, 4, 6, 3, 0, 6, 0, 3, 1, 0, 6, 9, 2, 6, 0, 5, 3, 6, 3, 3, 3, 7, 9, 8, 6, 9, 6, 9, 0, 4, 1, 4, 1, 8, 5, 0, 4, 5, 4, 7, 8, 6, 4, 1, 2, 3, 9, 5, 7, 5, 9, 1, 7, 7, 1, 9, 7, 6, 3, 9, 2, 6, 8, 3, 7, 4, 1, 6, 7, 4, 1, 2, 1, 1, 6, 7, 9, 8, 7, 0, 0, 7, 9, 2, 3, 8, 6, 0, 1, 0, 4, 6, 3, 3, 7, 1, 9, 0, 8, 4, 5, 0, 5, 0, 0, 0, 7, 6, 2, 4, 4, 1, 3, 1, 5, 4, 8, 8, 8, 0, 7, 4, 9, 0, 4, 6, 1, 1, 7, 2, 9, 1, 4, 6, 2, 4, 7, 8, 0, 3, 7, 4, 1, 6, 1, 3, 0, 8, 0, 1, 6, 2, 1, 8, 5, 5, 0, 3, 8, 9, 2, 9, 5, 1, 7, 7, 6, 9, 0, 2, 0, 8, 3, 3, 1, 6, 8, 5, 2, 0, 0, 8, 9, 7, 5, 5, 4, 3, 9, 2, 7, 8, 7, 5, 8, 2, 4, 4, 3, 6, 1, 9, 6, 0, 8, 9, 3, 0, 2, 6, 9, 9, 8, 7, 1, 1, 6, 0, 5, 2, 4, 0, 7, 5, 9, 3, 0, 7, 1, 0, 6, 5, 3, 1, 2, 3, 7, 1, 6, 3, 0, 9, 5, 6, 7, 6, 6, 7, 9, 2, 6, 5, 6, 8, 0, 6, 9, 2, 8, 1, 8, 3, 8, 6, 0, 8, 4, 5, 5, 2, 3, 0, 1, 4, 0, 5, 5, 6, 9, 0, 0, 4, 5, 6, 9, 1, 2, 7, 2, 2, 9, 3, 7, 3, 6, 8, 8, 2, 7, 3, 1, 1, 3, 9, 1, 1, 0, 7, 6, 0, 4, 7, 5, 8, 6, 0, 9, 1, 9, 1, 0, 2, 9, 4, 1, 6, 8, 0, 7, 8, 5, 3, 2, 3, 5, 8, 7, 9, 7, 1, 2, 5, 0, 1, 9, 7, 1, 5, 9, 0, 4, 0, 4, 7, 4, 7, 2, 2, 5, 0, 7, 1, 4, 8, 4, 3, 1, 3, 3, 2, 3, 2, 2, 2, 8, 6, 7, 2, 5, 4, 8, 4, 4, 0, 0, 5, 8, 3, 2, 4, 7, 3, 9, 3, 1, 6, 8, 2, 5, 4, 8, 7, 7, 7, 1, 2, 1, 7, 4, 1, 6, 1, 2, 9, 3, 6, 6, 2, 8, 4, 4, 9, 4, 6, 4, 5, 8, 5, 0, 7, 6, 6, 4, 0, 0, 6, 2, 6, 3, 8, 1, 0, 1, 0, 4, 0, 3, 2, 7, 4, 3, 5, 9, 4, 8, 6, 0, 2, 3, 9, 0, 0, 6, 6, 1, 8, 6, 6, 1, 9, 6, 6, 8, 1, 6, 3, 2, 1, 5, 6, 0, 5, 4, 1, 6, 9, 0, 2, 3, 4, 1, 1, 5, 4, 4, 7, 4, 3, 5, 7, 2, 6, 3, 7, 3, 8, 7, 4, 9, 7, 7, 9, 3, 4, 7, 6, 7, 1, 1, 9, 4, 4, 8, 6, 8, 1, 5, 0, 4, 8, 2, 5, 1, 2, 2, 8, 3, 7, 4, 7, 3, 7, 9, 3, 2, 3, 7, 9, 2, 3, 4, 3, 2, 9, 8, 9, 5, 1, 3, 1, 8, 4, 5, 1, 9, 7, 1, 6, 5, 6, 8, 8, 5, 4, 3, 1, 0, 4, 6, 8, 1, 4, 8, 1, 3, 6, 2, 2, 1, 9, 3, 7, 7, 4, 8, 2, 4, 9, 1, 0, 5, 2, 6, 5, 8, 1, 3, 8, 8, 1, 5, 5, 3, 2, 0, 3, 7, 2, 6, 2, 9, 2, 7, 9, 8, 5, 9, 0, 6, 4, 6, 9, 9, 7, 8, 4, 2, 4, 5, 6, 6, 0, 0, 8, 0, 6, 2, 5, 5, 7, 8, 7, 0, 8, 1, 9, 8, 7, 3, 9, 7, 4, 7, 9, 5, 4, 8, 6, 8, 0, 0, 2, 0, 3, 7, 5, 1, 1, 9, 3, 6, 4, 3, 2, 4, 2, 6, 1, 2, 3, 6, 7, 2, 9, 5, 1, 8, 3, 9, 3, 9, 8, 0, 2, 1, 7, 1, 3, 7, 7, 9, 1, 0, 3, 7, 1, 4, 7, 9, 8, 3, 1, 3, 1, 1, 7, 5, 4, 5, 3, 6, 6, 5, 8, 4, 2, 3, 6, 8, 8, 7, 1, 4, 9, 1, 5, 6, 6, 5, 4, 1, 8, 3, 0, 8, 1, 7, 4, 0, 7, 8, 4, 4, 7, 6, 7, 2, 8, 0, 2, 6, 5, 9, 8, 6, 9, 2, 5, 9, 2, 5, 9, 9, 9, 0, 7, 3, 2, 7, 8, 5, 0, 9, 1, 8, 8, 8, 9, 5, 9, 2, 9, 7, 6, 6, 0, 6, 1, 6, 1, 7, 5, 9, 2, 3, 8, 3, 2, 3, 7, 3, 4, 0, 9, 6, 2, 5, 6, 7, 6, 4, 9, 4, 9, 2, 5, 2, 7, 6, 9, 3, 5, 9, 5, 6, 6, 3, 8, 0, 2, 6, 5, 7, 7, 6, 5, 1, 3, 0, 1, 9, 6, 4, 8, 3, 0, 0, 1, 1, 8, 0, 6, 7, 2, 4, 1, 9, 9, 5, 8, 8, 8, 1, 3, 5, 9, 3, 5, 5, 5, 9, 6, 3, 2, 6, 4, 9, 3, 6, 8, 1, 7, 0, 1, 3, 3, 2, 3, 2, 6, 5, 1, 9, 7, "
     ]
    }
   ],
   "source": [
    "B=sc.parallelize(np.random.randint(0,10,size=1000))\n",
    "lst = B.collect()\n",
    "for i in lst: \n",
    "    print(i,end=', ')"
   ]
  },
  {
   "cell_type": "markdown",
   "metadata": {},
   "source": [
    "### Sequential syntax for chaining\n",
    "Perform assignment after each computation"
   ]
  },
  {
   "cell_type": "code",
   "execution_count": 3,
   "metadata": {},
   "outputs": [
    {
     "name": "stderr",
     "output_type": "stream",
     "text": [
      "[Stage 1:>                                                          (0 + 4) / 4]\r"
     ]
    },
    {
     "name": "stdout",
     "output_type": "stream",
     "text": [
      "CPU times: user 17.6 ms, sys: 8.89 ms, total: 26.5 ms\n",
      "Wall time: 1.11 s\n"
     ]
    },
    {
     "name": "stderr",
     "output_type": "stream",
     "text": [
      "                                                                                \r"
     ]
    }
   ],
   "source": [
    "%%time\n",
    "Squares=B.map(lambda x:x*x)\n",
    "summation = Squares.reduce(lambda x,y:x+y)"
   ]
  },
  {
   "cell_type": "code",
   "execution_count": 4,
   "metadata": {},
   "outputs": [
    {
     "name": "stdout",
     "output_type": "stream",
     "text": [
      "28724\n"
     ]
    }
   ],
   "source": [
    "print(summation)"
   ]
  },
  {
   "cell_type": "markdown",
   "metadata": {},
   "source": [
    "### Cascaded syntax for chaining\n",
    "Combine computations into a single cascaded command"
   ]
  },
  {
   "cell_type": "code",
   "execution_count": 5,
   "metadata": {},
   "outputs": [
    {
     "name": "stdout",
     "output_type": "stream",
     "text": [
      "CPU times: user 16.1 ms, sys: 8.04 ms, total: 24.1 ms\n",
      "Wall time: 251 ms\n"
     ]
    },
    {
     "data": {
      "text/plain": [
       "28724"
      ]
     },
     "execution_count": 5,
     "metadata": {},
     "output_type": "execute_result"
    }
   ],
   "source": [
    "%%time\n",
    "B.map(lambda x:x*x).reduce(lambda x,y:x+y)"
   ]
  },
  {
   "cell_type": "markdown",
   "metadata": {},
   "source": [
    "### Both syntaxes mean exactly the same thing\n",
    "The only difference:\n",
    "* In the sequential syntax the intermediate RDD has a name `Squares`\n",
    "* In the cascaded syntax the intermediate RDD is *anonymous*\n",
    "\n",
    "The execution is identical!\n",
    "\n",
    "### Sequential execution\n",
    "The standard way that the map and reduce are executed is\n",
    "* perform the map\n",
    "* store the resulting RDD in memory\n",
    "* perform the reduce\n",
    "\n",
    "### Disadvantages of Sequential execution\n",
    "\n",
    "1. Intermediate result (`Squares`) requires memory space.\n",
    "2. Two scans of memory (of `B`, then of `Squares`) - double the cache-misses.\n",
    "\n",
    "### Pipelined execution\n",
    "Perform the whole computation in a single pass. For each element of **`B`**\n",
    "1. Compute the square\n",
    "2. Enter the square as input to the `reduce` operation.\n",
    "\n",
    "### Advantages of Pipelined execution\n",
    "\n",
    "1. Less memory required - intermediate result is not stored.\n",
    "2. Faster - only one pass through the Input RDD."
   ]
  },
  {
   "cell_type": "code",
   "execution_count": 6,
   "metadata": {},
   "outputs": [],
   "source": [
    "sc.stop()"
   ]
  },
  {
   "cell_type": "code",
   "execution_count": null,
   "metadata": {},
   "outputs": [],
   "source": []
  }
 ],
 "metadata": {
  "kernelspec": {
   "display_name": "Python 3 (ipykernel)",
   "language": "python",
   "name": "python3"
  },
  "language_info": {
   "codemirror_mode": {
    "name": "ipython",
    "version": 3
   },
   "file_extension": ".py",
   "mimetype": "text/x-python",
   "name": "python",
   "nbconvert_exporter": "python",
   "pygments_lexer": "ipython3",
   "version": "3.8.10"
  }
 },
 "nbformat": 4,
 "nbformat_minor": 2
}
