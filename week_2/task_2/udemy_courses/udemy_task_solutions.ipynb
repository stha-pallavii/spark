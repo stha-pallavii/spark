{
 "cells": [
  {
   "cell_type": "markdown",
   "id": "ac7db8ee",
   "metadata": {},
   "source": [
    "At first, create a spark application, read the json file into a dataframe, and explore the data"
   ]
  },
  {
   "cell_type": "code",
   "execution_count": 1,
   "id": "c6af7e76",
   "metadata": {},
   "outputs": [],
   "source": [
    "from pyspark.sql import SparkSession"
   ]
  },
  {
   "cell_type": "code",
   "execution_count": 2,
   "id": "8b443f9c",
   "metadata": {},
   "outputs": [
    {
     "name": "stdout",
     "output_type": "stream",
     "text": [
      "22/10/20 12:53:10 WARN Utils: Your hostname, pallavi-xps resolves to a loopback address: 127.0.1.1; using 192.168.1.79 instead (on interface wlp2s0)\n",
      "22/10/20 12:53:10 WARN Utils: Set SPARK_LOCAL_IP if you need to bind to another address\n"
     ]
    },
    {
     "name": "stderr",
     "output_type": "stream",
     "text": [
      "Setting default log level to \"WARN\".\n",
      "To adjust logging level use sc.setLogLevel(newLevel). For SparkR, use setLogLevel(newLevel).\n"
     ]
    },
    {
     "name": "stdout",
     "output_type": "stream",
     "text": [
      "22/10/20 12:53:11 WARN NativeCodeLoader: Unable to load native-hadoop library for your platform... using builtin-java classes where applicable\n",
      "22/10/20 12:53:11 WARN Utils: Service 'SparkUI' could not bind on port 4040. Attempting port 4041.\n"
     ]
    }
   ],
   "source": [
    "spark = SparkSession.builder.appName(\"udemy\").getOrCreate()"
   ]
  },
  {
   "cell_type": "code",
   "execution_count": 3,
   "id": "1affb2f4",
   "metadata": {},
   "outputs": [],
   "source": [
    "# read the udemy_courses.json file\n",
    "udemy_df = spark.read.format('json').load('udemy_courses.json')"
   ]
  },
  {
   "cell_type": "code",
   "execution_count": 5,
   "id": "02588ede",
   "metadata": {},
   "outputs": [],
   "source": [
    "#view the data in the dataframe\n",
    "# udemy_df.show()"
   ]
  },
  {
   "cell_type": "code",
   "execution_count": 6,
   "id": "4c8af3f0",
   "metadata": {},
   "outputs": [],
   "source": [
    "#removing corrupt record column\n",
    "\n",
    "udemy_df = udemy_df.drop('_corrupt_record')"
   ]
  },
  {
   "cell_type": "code",
   "execution_count": 7,
   "id": "f9667600",
   "metadata": {},
   "outputs": [
    {
     "name": "stdout",
     "output_type": "stream",
     "text": [
      "root\n",
      " |-- content_duration: string (nullable = true)\n",
      " |-- course_id: string (nullable = true)\n",
      " |-- course_title: string (nullable = true)\n",
      " |-- is_paid: string (nullable = true)\n",
      " |-- level: string (nullable = true)\n",
      " |-- num_lectures: string (nullable = true)\n",
      " |-- num_reviews: string (nullable = true)\n",
      " |-- num_subscribers: string (nullable = true)\n",
      " |-- price: string (nullable = true)\n",
      " |-- published_timestamp: string (nullable = true)\n",
      " |-- subject: string (nullable = true)\n",
      " |-- url: string (nullable = true)\n",
      "\n"
     ]
    }
   ],
   "source": [
    "#view the schema of the dataframe\n",
    "udemy_df.printSchema()"
   ]
  },
  {
   "cell_type": "code",
   "execution_count": 14,
   "id": "0e11d3b1",
   "metadata": {},
   "outputs": [
    {
     "name": "stdout",
     "output_type": "stream",
     "text": [
      "root\n",
      " |-- content_duration: float (nullable = true)\n",
      " |-- course_id: integer (nullable = true)\n",
      " |-- course_title: string (nullable = true)\n",
      " |-- is_paid: boolean (nullable = true)\n",
      " |-- level: string (nullable = true)\n",
      " |-- num_lectures: integer (nullable = true)\n",
      " |-- num_reviews: integer (nullable = true)\n",
      " |-- num_subscribers: integer (nullable = true)\n",
      " |-- price: integer (nullable = true)\n",
      " |-- published_timestamp: timestamp (nullable = true)\n",
      " |-- subject: string (nullable = true)\n",
      " |-- url: string (nullable = true)\n",
      "\n"
     ]
    }
   ],
   "source": [
    "#all columns have data type string. So, we need to convert the datatypes using cast method\n",
    "\n",
    "from pyspark.sql.types import StringType, FloatType, IntegerType, BooleanType, TimestampType\n",
    "from pyspark.sql.functions import col\n",
    "\n",
    "\n",
    "udemy_df = udemy_df\\\n",
    "            .withColumn('content_duration', col('content_duration').cast(FloatType()))\\\n",
    "            .withColumn('course_id', col('course_id').cast(IntegerType()))\\\n",
    "            .withColumn('course_title', col('course_title').cast(StringType()))\\\n",
    "            .withColumn('is_paid', col('is_paid').cast(BooleanType()))\\\n",
    "            .withColumn('level', col('level').cast(StringType()))\\\n",
    "            .withColumn('num_lectures', col('num_lectures').cast(IntegerType()))\\\n",
    "            .withColumn('num_reviews', col('num_reviews').cast(IntegerType()))\\\n",
    "            .withColumn('num_subscribers', col('num_subscribers').cast(IntegerType()))\\\n",
    "            .withColumn('price', col('price').cast(IntegerType()))\\\n",
    "            .withColumn('published_timestamp', col('published_timestamp').cast(TimestampType()))\\\n",
    "            .withColumn('subject', col('subject').cast(StringType()))\\\n",
    "            .withColumn('url', col('url').cast(StringType()))\n",
    "\n",
    "\n",
    "# df = df.na.drop(subset=['Region'])\n",
    "udemy_df.printSchema()"
   ]
  },
  {
   "cell_type": "code",
   "execution_count": 9,
   "id": "33248f36",
   "metadata": {},
   "outputs": [],
   "source": [
    "# udemy_df.show()"
   ]
  },
  {
   "cell_type": "code",
   "execution_count": 13,
   "id": "91d368d3",
   "metadata": {},
   "outputs": [
    {
     "name": "stdout",
     "output_type": "stream",
     "text": [
      "root\n",
      " |-- course_id: string (nullable = true)\n",
      " |-- course_title: string (nullable = true)\n",
      " |-- url: string (nullable = true)\n",
      " |-- is_paid: string (nullable = true)\n",
      " |-- price: string (nullable = true)\n",
      " |-- num_subscribers: string (nullable = true)\n",
      " |-- num_reviews: string (nullable = true)\n",
      " |-- num_lectures: string (nullable = true)\n",
      " |-- subject: string (nullable = true)\n",
      " |-- level: string (nullable = true)\n",
      " |-- content_duration: string (nullable = true)\n",
      " |-- subject: string (nullable = true)\n",
      "\n",
      "+---------+--------------------+--------------------+-------+-----+---------------+-----------+------------+----------------+------------------+------------------+----------------+\n",
      "|course_id|        course_title|                 url|is_paid|price|num_subscribers|num_reviews|num_lectures|         subject|             level|  content_duration|         subject|\n",
      "+---------+--------------------+--------------------+-------+-----+---------------+-----------+------------+----------------+------------------+------------------+----------------+\n",
      "|  1070968|Ultimate Investme...|https://www.udemy...|   True|  200|           2147|         23|          51|Business Finance|        All Levels|               1.5|Business Finance|\n",
      "|  1113822|Complete GST Cour...|https://www.udemy...|   True|   75|           2792|        923|         274|Business Finance|        All Levels|              39.0|Business Finance|\n",
      "|  1006314|Financial Modelin...|https://www.udemy...|   True|   45|           2174|         74|          51|Business Finance|Intermediate Level|               2.5|Business Finance|\n",
      "|  1210588|Beginner to Pro -...|https://www.udemy...|   True|   95|           2451|         11|          36|Business Finance|        All Levels|               3.0|Business Finance|\n",
      "|  1011058|How To Maximize Y...|https://www.udemy...|   True|  200|           1276|         45|          26|Business Finance|Intermediate Level|               2.0|Business Finance|\n",
      "|   192870|Trading Penny Sto...|https://www.udemy...|   True|  150|           9221|        138|          25|Business Finance|        All Levels|               3.0|Business Finance|\n",
      "|   739964|Investing And Tra...|https://www.udemy...|   True|   65|           1540|        178|          26|Business Finance|    Beginner Level|               1.0|Business Finance|\n",
      "|   403100|Trading Stock Cha...|https://www.udemy...|   True|   95|           2917|        148|          23|Business Finance|        All Levels|               2.5|Business Finance|\n",
      "|   476268|Options Trading 3...|https://www.udemy...|   True|  195|           5172|         34|          38|Business Finance|      Expert Level|               2.5|Business Finance|\n",
      "|  1167710|The Only Investme...|https://www.udemy...|   True|  200|            827|         14|          15|Business Finance|        All Levels|               1.0|Business Finance|\n",
      "|   592338|Forex Trading Sec...|https://www.udemy...|   True|  200|           4284|         93|          76|Business Finance|        All Levels|               5.0|Business Finance|\n",
      "|   975046|Trading Options W...|https://www.udemy...|   True|  200|           1380|         42|          17|Business Finance|        All Levels|               1.0|Business Finance|\n",
      "|   742602|Financial Managem...|https://www.udemy...|   True|   30|           3607|         21|          19|Business Finance|        All Levels|               1.5|Business Finance|\n",
      "|   794151|Forex Trading Cou...|https://www.udemy...|   True|  195|           4061|         52|          16|Business Finance|        All Levels|               2.0|Business Finance|\n",
      "|  1196544|Python Algo Tradi...|https://www.udemy...|   True|  200|            294|         19|          42|Business Finance|        All Levels|               7.0|Business Finance|\n",
      "|   504036|Short Selling: Le...|https://www.udemy...|   True|   75|           2276|        106|          19|Business Finance|Intermediate Level|               1.5|Business Finance|\n",
      "|   719698|Basic Technical A...|https://www.udemy...|   True|   20|           4919|         79|          16|Business Finance|    Beginner Level|               1.5|Business Finance|\n",
      "|   564966|The Complete Char...|https://www.udemy...|   True|  200|           2666|        115|          52|Business Finance|        All Levels|               4.0|Business Finance|\n",
      "|   606928|7 Deadly Mistakes...|https://www.udemy...|   True|   50|           5354|         24|          23|Business Finance|        All Levels|               1.5|Business Finance|\n",
      "|    58977|Financial Stateme...|https://www.udemy...|   True|   95|           8095|        249|          12|Business Finance|    Beginner Level|0.5833333333333334|Business Finance|\n",
      "+---------+--------------------+--------------------+-------+-----+---------------+-----------+------------+----------------+------------------+------------------+----------------+\n",
      "only showing top 20 rows\n",
      "\n"
     ]
    }
   ],
   "source": [
    "# create a separate dataframe for course (since most of the questions are related to course only)\n",
    "\n",
    "course_df=udemy_df.select([\"course_id\",\"course_title\",\"url\",\"is_paid\", \"price\", \"num_subscribers\",\"num_reviews\",\n",
    "                           \"num_lectures\", \"subject\",\"level\",\"content_duration\", \"subject\"\n",
    "                                  ])\n",
    "\n",
    "course_df.printSchema()\n",
    "course_df.show()"
   ]
  },
  {
   "cell_type": "code",
   "execution_count": 11,
   "id": "0dd9aab6",
   "metadata": {},
   "outputs": [],
   "source": [
    "#create SQL table from dataframe\n",
    "\n",
    "udemy_df.createOrReplaceTempView(\"udemy_table\")"
   ]
  },
  {
   "cell_type": "markdown",
   "id": "5e972b90",
   "metadata": {},
   "source": [
    "# Questions and Solutions"
   ]
  },
  {
   "cell_type": "markdown",
   "id": "e89d30f6",
   "metadata": {},
   "source": [
    "###   1. What are the best free courses by subject?"
   ]
  },
  {
   "cell_type": "code",
   "execution_count": 47,
   "id": "cf149a5c",
   "metadata": {},
   "outputs": [
    {
     "name": "stdout",
     "output_type": "stream",
     "text": [
      "+-------------------+--------------------+\n",
      "|            subject|        course_title|\n",
      "+-------------------+--------------------+\n",
      "|               null|                null|\n",
      "|   Business Finance|Bitcoin or How I ...|\n",
      "|     Graphic Design|Photoshop In-Dept...|\n",
      "|Musical Instruments|Free Beginner Ele...|\n",
      "|    Web Development|Learn HTML5 Progr...|\n",
      "+-------------------+--------------------+\n",
      "\n",
      "+-------------------+--------------------+\n",
      "|            subject|   Best Free Courses|\n",
      "+-------------------+--------------------+\n",
      "|               null|                  []|\n",
      "|   Business Finance|[Bitcoin or How I...|\n",
      "|     Graphic Design|[Photoshop In-Dep...|\n",
      "|Musical Instruments|[Free Beginner El...|\n",
      "|    Web Development|[Learn HTML5 Prog...|\n",
      "+-------------------+--------------------+\n",
      "\n"
     ]
    }
   ],
   "source": [
    "from pyspark.sql.functions import row_number, rank, sum as sum_\n",
    "\n",
    "\n",
    "best_free_courses_df = udemy_df\\\n",
    "                    .groupBy('subject', 'course_title')\\\n",
    "                    .agg(sum_('num_subscribers').alias('Total Number of Subscribers'))\\\n",
    "                    .orderBy('subject')\n",
    "\n",
    "window_spec = W.partitionBy('subject')\\\n",
    "                .orderBy(col('Total Number of Subscribers').desc())\n",
    "\n",
    "top_3_best_courses = best_free_courses_df\\\n",
    "                            .withColumn('rn', rank().over(window_spec))\\\n",
    "                            .where('rn <= 1')\\\n",
    "                            .drop('rn')\n",
    "\n",
    "# regions and their five best item types\n",
    "top_3_best_courses.select('subject', 'course_title').show()\n",
    "\n",
    "# final result\n",
    "top_3_best_courses\\\n",
    "    .withColumn('Best Free Courses', collect_list('course_title').over(W.partitionBy('subject')))\\\n",
    "    .select('subject', 'Best Free Courses')\\\n",
    "    .distinct()\\\n",
    "    .show()"
   ]
  },
  {
   "cell_type": "markdown",
   "id": "024b94d8",
   "metadata": {},
   "source": [
    "###     2. What are the most popular courses?"
   ]
  },
  {
   "cell_type": "code",
   "execution_count": null,
   "id": "960fd5e6",
   "metadata": {},
   "outputs": [],
   "source": [
    "from pyspark.sql.functions import row_number, rank\n",
    "\n",
    "popular_courses_df = df\\\n",
    "                    .groupBy('Region', 'Item Type')\\\n",
    "                    .agg(sum_('Units Sold').alias('Total Units Sold'))\\\n",
    "                    .orderBy('Region')\n",
    "\n",
    "window_spec = W.partitionBy('Region')\\\n",
    "                .orderBy(col('Total Units Sold').desc())\n",
    "\n",
    "region_sales_ranked_df = region_sales_df\\\n",
    "                            .withColumn('rn', rank().over(window_spec))\\\n",
    "                            .where('rn <= 5')\\\n",
    "                            .drop('rn')\n",
    "\n",
    "# regions and their five best item types\n",
    "region_sales_ranked_df.select('Region', 'Item Type').show()\n",
    "\n",
    "# final result\n",
    "region_sales_ranked_df\\\n",
    "    .withColumn('Item List', collect_list('Item Type').over(W.partitionBy('Region')))\\\n",
    "    .select('Region', 'Item List')\\\n",
    "    .distinct()\\\n",
    "    .show()"
   ]
  },
  {
   "cell_type": "code",
   "execution_count": 24,
   "id": "7088d708",
   "metadata": {},
   "outputs": [],
   "source": [
    "popular_courses = spark.sql(\"\"\"\n",
    "SELECT a.course_id, a.course_title, a.num_subscribers\n",
    "FROM dftable a\n",
    "INNER JOIN (\n",
    "    SELECT b.course_id, MAX(b.num_subscribers) as No_of_Subscribers\n",
    "    FROM dftable b\n",
    "    GROUP BY b.course_id\n",
    ") b ON a.course_id = b.course_id\"\"\")"
   ]
  },
  {
   "cell_type": "code",
   "execution_count": 25,
   "id": "862d2add",
   "metadata": {},
   "outputs": [
    {
     "name": "stdout",
     "output_type": "stream",
     "text": [
      "+---------+--------------------+---------------+\n",
      "|course_id|        course_title|num_subscribers|\n",
      "+---------+--------------------+---------------+\n",
      "|  1070968|Ultimate Investme...|           2147|\n",
      "|  1113822|Complete GST Cour...|           2792|\n",
      "|  1006314|Financial Modelin...|           2174|\n",
      "|  1210588|Beginner to Pro -...|           2451|\n",
      "|  1011058|How To Maximize Y...|           1276|\n",
      "|   192870|Trading Penny Sto...|           9221|\n",
      "|   739964|Investing And Tra...|           1540|\n",
      "|   403100|Trading Stock Cha...|           2917|\n",
      "|   476268|Options Trading 3...|           5172|\n",
      "|  1167710|The Only Investme...|            827|\n",
      "|   592338|Forex Trading Sec...|           4284|\n",
      "|   975046|Trading Options W...|           1380|\n",
      "|   742602|Financial Managem...|           3607|\n",
      "|   794151|Forex Trading Cou...|           4061|\n",
      "|  1196544|Python Algo Tradi...|            294|\n",
      "|   504036|Short Selling: Le...|           2276|\n",
      "|   719698|Basic Technical A...|           4919|\n",
      "|   564966|The Complete Char...|           2666|\n",
      "|   606928|7 Deadly Mistakes...|           5354|\n",
      "|    58977|Financial Stateme...|           8095|\n",
      "+---------+--------------------+---------------+\n",
      "only showing top 20 rows\n",
      "\n"
     ]
    }
   ],
   "source": [
    "popular_courses.show()"
   ]
  },
  {
   "cell_type": "markdown",
   "id": "9401aa7b",
   "metadata": {},
   "source": [
    "###   3. List the courses that are specialized to “Business Finance” and find the average number of subscribers, reviews, price and lectures on the subject."
   ]
  },
  {
   "cell_type": "code",
   "execution_count": 49,
   "id": "7cfa9c93",
   "metadata": {},
   "outputs": [
    {
     "name": "stdout",
     "output_type": "stream",
     "text": [
      "+--------------------+---------------------+-----------------+---------+------------------+\n",
      "|             courses|avg_no_of_subscribers|avg_no_of_reviews|avg_price|avg_no_of_lectures|\n",
      "+--------------------+---------------------+-----------------+---------+------------------+\n",
      "|Forex SOS Course:...|               1315.0|             48.0|     50.0|              59.0|\n",
      "|Accounting Standa...|               2222.0|              9.0|     20.0|              12.0|\n",
      "|Collection of Adv...|               2025.0|             34.0|     40.0|               9.0|\n",
      "|Buying Call and P...|                266.0|             20.0|     60.0|              14.0|\n",
      "|MQL4 Tutorial Boo...|               1278.0|             33.0|     30.0|              23.0|\n",
      "|FMT: Forex Market...|                  1.0|              0.0|     20.0|              27.0|\n",
      "|        Equity Swaps|                394.0|             25.0|     50.0|              18.0|\n",
      "|Trade Stocks, For...|                116.0|              6.0|     20.0|              12.0|\n",
      "|Term Loan Apprais...|                 11.0|              2.0|     20.0|              28.0|\n",
      "|Professional Fore...|                353.0|             21.0|     50.0|              17.0|\n",
      "|Financial Model F...|                 47.0|              5.0|     75.0|              27.0|\n",
      "|2 Easy Steps To I...|                828.0|              1.0|     20.0|              20.0|\n",
      "|CFA® Level 1 2014...|                831.0|              1.0|     30.0|              13.0|\n",
      "|Forex para Princi...|                813.0|             94.0|    140.0|              52.0|\n",
      "|Basics of Tax in ...|                718.0|              5.0|     20.0|              28.0|\n",
      "|Como hacer empres...|                 11.0|              2.0|     20.0|              10.0|\n",
      "|Technical Analysi...|               3555.0|             89.0|     40.0|              11.0|\n",
      "|Trend Following S...|               1202.0|             76.0|     95.0|              64.0|\n",
      "|MQL4 Programming ...|               1367.0|             33.0|    195.0|              74.0|\n",
      "|Financial Risk Ma...|                 86.0|              7.0|     50.0|              87.0|\n",
      "+--------------------+---------------------+-----------------+---------+------------------+\n",
      "only showing top 20 rows\n",
      "\n"
     ]
    }
   ],
   "source": [
    "business_finance_courses = spark.sql(\"\"\"\n",
    "                                SELECT course_title courses,\n",
    "                                avg(num_subscribers) avg_no_of_subscribers,\n",
    "                                avg(num_reviews) avg_no_of_reviews,\n",
    "                                avg(price) avg_price,\n",
    "                                avg(num_lectures) avg_no_of_lectures\n",
    "                                from dftable                        \n",
    "                                where subject = \"Business Finance\"\n",
    "                                group by course_title\n",
    "                                \"\"\")\n",
    "\n",
    "business_finance_courses.show()"
   ]
  },
  {
   "cell_type": "code",
   "execution_count": 40,
   "id": "8c163e37",
   "metadata": {},
   "outputs": [
    {
     "name": "stdout",
     "output_type": "stream",
     "text": [
      "+----------------------+------------------+-----------------+-------------------+\n",
      "|avg_num_of_subscribers|avg_num_of_reviews|        avg_price|avg_num_of_lectures|\n",
      "+----------------------+------------------+-----------------+-------------------+\n",
      "|    1563.7748953974894|  63.5163179916318|68.55230125523012|  32.43096234309623|\n",
      "+----------------------+------------------+-----------------+-------------------+\n",
      "\n"
     ]
    }
   ],
   "source": [
    "average_data = spark.sql(\"\"\"\n",
    "select avg(num_subscribers) avg_num_of_subscribers, \n",
    "avg(num_reviews) avg_num_of_reviews,\n",
    "avg(price) avg_price,\n",
    "avg(num_lectures) avg_num_of_lectures\n",
    "from dftable\n",
    "where subject = \"Business Finance\"\n",
    "\"\"\")\n",
    "\n",
    "average_data.show()"
   ]
  },
  {
   "cell_type": "markdown",
   "id": "7f3a18f0",
   "metadata": {},
   "source": [
    "###   4. How are courses related?"
   ]
  },
  {
   "cell_type": "code",
   "execution_count": null,
   "id": "2f4abf0b",
   "metadata": {},
   "outputs": [],
   "source": []
  },
  {
   "cell_type": "markdown",
   "id": "89f8f62c",
   "metadata": {},
   "source": [
    "###  5. Which courses offer the best cost benefit?"
   ]
  },
  {
   "cell_type": "code",
   "execution_count": null,
   "id": "85b4bfdf",
   "metadata": {},
   "outputs": [],
   "source": []
  },
  {
   "cell_type": "markdown",
   "id": "7a41fc50",
   "metadata": {},
   "source": [
    "###     6. Find the courses which have more than 15 lectures."
   ]
  },
  {
   "cell_type": "code",
   "execution_count": 59,
   "id": "4fab30d8",
   "metadata": {},
   "outputs": [
    {
     "name": "stdout",
     "output_type": "stream",
     "text": [
      "+-------------------------------------+------------------+\n",
      "|                         course_title|number_of_lectures|\n",
      "+-------------------------------------+------------------+\n",
      "|                 The Big Volatilit...|                16|\n",
      "|                 Leaps Options Tra...|                16|\n",
      "|                 Forex Trading Cou...|                16|\n",
      "|                 Forex Trading For...|                16|\n",
      "|                 Create A Business...|                16|\n",
      "|                 Forex how traders...|                16|\n",
      "|                 Excel functions t...|                16|\n",
      "|                 Trading for Begin...|                16|\n",
      "|                 CREDIT SPREAD SUR...|                16|\n",
      "|                 Accounting Bank R...|                16|\n",
      "|                 Technical Analysi...|                16|\n",
      "|                 Trading Biotech S...|                16|\n",
      "|                 Situational Tradi...|                16|\n",
      "|                 Win 90% of Trades...|                16|\n",
      "|                 Basic Technical A...|                16|\n",
      "|                 MQL5 - Beginner T...|                16|\n",
      "|                 Accounting in 60 ...|                16|\n",
      "|                 Your First Succes...|                16|\n",
      "|                 Awaken the Accoun...|                16|\n",
      "|ビットコイン生態系｜既存通貨が主役...|                16|\n",
      "+-------------------------------------+------------------+\n",
      "only showing top 20 rows\n",
      "\n"
     ]
    }
   ],
   "source": [
    "courses = spark.sql(\"\"\"\n",
    "                    SELECT course_title, num_lectures number_of_lectures\n",
    "                    FROM dftable\n",
    "                    WHERE num_lectures > 15\n",
    "                    ORDER BY num_lectures\n",
    "                    \"\"\")\n",
    "\n",
    "courses.show()"
   ]
  },
  {
   "cell_type": "code",
   "execution_count": 58,
   "id": "1a0ffefa",
   "metadata": {},
   "outputs": [
    {
     "name": "stdout",
     "output_type": "stream",
     "text": [
      "+--------------------------------+------------+\n",
      "|                    course_title|num_lectures|\n",
      "+--------------------------------+------------+\n",
      "|            How To Maximize Y...|          26|\n",
      "|            Learn Accounting....|          33|\n",
      "|                    Equity Swaps|          18|\n",
      "|            The Advanced Fore...|          25|\n",
      "|            Primeros Pasos co...|          31|\n",
      "|            YOU can Draw, Sha...|          19|\n",
      "|            Typografie - Die ...|          16|\n",
      "|            Pic Monkey for Be...|          17|\n",
      "|            Bluegrass Guitar ...|          16|\n",
      "|            Escalas Pentatóni...|          23|\n",
      "|            Learn the Violin ...|          39|\n",
      "|            Code your first W...|          16|\n",
      "|            Vue JS - Masterin...|          69|\n",
      "|            Voiceover Audio S...|          39|\n",
      "|            Forex For Beginne...|          23|\n",
      "|            Advanced Technica...|          19|\n",
      "|Excelを使ってビジネスシミュレ...|          47|\n",
      "|            Mastering Photosh...|          79|\n",
      "|            Piano Playing: Re...|          17|\n",
      "|            Learn the Viola -...|          38|\n",
      "+--------------------------------+------------+\n",
      "only showing top 20 rows\n",
      "\n"
     ]
    }
   ],
   "source": [
    "df.filter(col('num_lectures') > 15).select('course_title', 'num_lectures').distinct().show()"
   ]
  },
  {
   "cell_type": "markdown",
   "id": "c107ffe5",
   "metadata": {},
   "source": [
    "###     7. List courses on the basis of level."
   ]
  },
  {
   "cell_type": "code",
   "execution_count": 37,
   "id": "5d43d18c",
   "metadata": {},
   "outputs": [
    {
     "name": "stdout",
     "output_type": "stream",
     "text": [
      "+------------------+--------------------+\n",
      "|             level|         Course List|\n",
      "+------------------+--------------------+\n",
      "|              null|                  []|\n",
      "|        All Levels|[Quick Piano Less...|\n",
      "|    Beginner Level|[First Web Applic...|\n",
      "|      Expert Level|[Trading Robot Fo...|\n",
      "|Intermediate Level|[Learn Corel x7 L...|\n",
      "+------------------+--------------------+\n",
      "\n"
     ]
    }
   ],
   "source": [
    "from pyspark.sql import Window as W\n",
    "from pyspark.sql.functions import collect_list, collect_set, explode\n",
    "\n",
    "window_spec = W.partitionBy('level')\n",
    "course_list_df = df\\\n",
    "                .withColumn('Course List', collect_set('course_title').over(window_spec))\\\n",
    "                .select('level', 'Course List')\\\n",
    "                .distinct()\n",
    "\n",
    "course_list_df.show()"
   ]
  },
  {
   "cell_type": "code",
   "execution_count": null,
   "id": "9d296d12",
   "metadata": {},
   "outputs": [],
   "source": [
    "# assuming item type list\n",
    "from pyspark.sql import Window as W\n",
    "from pyspark.sql.functions import collect_list, collect_set, explode\n",
    "\n",
    "window_spec = W.partitionBy('Country')\n",
    "country_item_list_df = sales_df\\\n",
    "                        .withColumn('Item List', collect_set('Item Type').over(window_spec))\\\n",
    "                        .select('Country', 'Item List')\\\n",
    "                        .distinct()\n",
    "\n",
    "country_item_list_df.show()"
   ]
  },
  {
   "cell_type": "markdown",
   "id": "c7e398f3",
   "metadata": {},
   "source": [
    "###     8. Find the courses which have duration greater than 2 hours."
   ]
  },
  {
   "cell_type": "code",
   "execution_count": 57,
   "id": "e5e7c207",
   "metadata": {},
   "outputs": [
    {
     "name": "stdout",
     "output_type": "stream",
     "text": [
      "+---------+--------------------+--------------+\n",
      "|course_id|        course_title|duration_hours|\n",
      "+---------+--------------------+--------------+\n",
      "|    17349|Figure Drawing Fr...|           2.5|\n",
      "|    19422|Drupal 7 for Begi...|           2.5|\n",
      "|    20387|Guitar Insanity W...|           2.5|\n",
      "|    20461|How to Design a L...|           2.5|\n",
      "|    26956|Learn Guitar in 2...|           2.5|\n",
      "|    42197|Options Spreads B...|           2.5|\n",
      "|    50528|The Complete Word...|           2.5|\n",
      "|    53157|Beginning Flute L...|           2.5|\n",
      "|    59535|  HTML for Beginners|           2.5|\n",
      "|    71912|Have Fun with Beg...|           2.5|\n",
      "|    98140|Introduction to B...|           2.5|\n",
      "|    99826|Become A Web Deve...|           2.5|\n",
      "|   100916|Blues Guitar Less...|           2.5|\n",
      "|   101498|Blues Guitar Less...|           2.5|\n",
      "|   101864|Programming for E...|           2.5|\n",
      "|   109622|Finance - Ratios ...|           2.5|\n",
      "|   128950|Learn to Build We...|           2.5|\n",
      "|   131562|    Piano With A Pro|           2.5|\n",
      "|   138004|Accounting Concep...|           2.5|\n",
      "|   138560|Credit Repair fro...|           2.5|\n",
      "+---------+--------------------+--------------+\n",
      "only showing top 20 rows\n",
      "\n"
     ]
    }
   ],
   "source": [
    "courses_duration = spark.sql(\"\"\"\n",
    "                                SELECT course_id, course_title, content_duration duration_hours\n",
    "                                FROM dftable\n",
    "                                WHERE content_duration > 2.0\n",
    "                                ORDER BY 3,1\n",
    "                                \"\"\")\n",
    "\n",
    "courses_duration.show()"
   ]
  },
  {
   "cell_type": "code",
   "execution_count": 54,
   "id": "a0c7299c",
   "metadata": {},
   "outputs": [
    {
     "name": "stdout",
     "output_type": "stream",
     "text": [
      "+---------------------------------------+----------------+\n",
      "|                           course_title|content_duration|\n",
      "+---------------------------------------+----------------+\n",
      "|                   Navigate the 10-K...|             2.5|\n",
      "|                   Portfolio Managem...|             5.0|\n",
      "|                    Angular Masterclass|             6.5|\n",
      "|                   Create a Responsi...|             3.0|\n",
      "|                   Accounting 2 Simp...|             5.0|\n",
      "|                   Trader sur le For...|             2.5|\n",
      "|                   Learn Logo Design...|             3.0|\n",
      "|                   Piano From Zero T...|             3.5|\n",
      "|                   Super-Curso de Gu...|            10.5|\n",
      "|こどもギターレッスン　リトルギタリストⅡ|             3.5|\n",
      "|                    JavaScript Tutorial|             4.5|\n",
      "|                   Complete RESPONSI...|             9.0|\n",
      "|                   Devtools 2017: Be...|             2.5|\n",
      "|                   WordPress: Create...|             2.5|\n",
      "|                   Practical Underst...|             5.5|\n",
      "|                   Advanced Accounti...|             4.0|\n",
      "|                   Business Economic...|             4.0|\n",
      "|                   Small Biz Doers' ...|             5.5|\n",
      "|                   Ultimate Guide To...|             2.5|\n",
      "|                   Aprende a tocar e...|             3.5|\n",
      "+---------------------------------------+----------------+\n",
      "only showing top 20 rows\n",
      "\n"
     ]
    }
   ],
   "source": [
    "df.filter(col('content_duration') > 2.0).select('course_title', 'content_duration').distinct().show()"
   ]
  }
 ],
 "metadata": {
  "kernelspec": {
   "display_name": "Python 3 (ipykernel)",
   "language": "python",
   "name": "python3"
  },
  "language_info": {
   "codemirror_mode": {
    "name": "ipython",
    "version": 3
   },
   "file_extension": ".py",
   "mimetype": "text/x-python",
   "name": "python",
   "nbconvert_exporter": "python",
   "pygments_lexer": "ipython3",
   "version": "3.10.6"
  }
 },
 "nbformat": 4,
 "nbformat_minor": 5
}
