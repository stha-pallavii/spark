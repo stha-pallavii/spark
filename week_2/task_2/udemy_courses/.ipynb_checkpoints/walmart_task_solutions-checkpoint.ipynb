{
 "cells": [
  {
   "cell_type": "code",
   "execution_count": 1,
   "id": "bfd8035c",
   "metadata": {},
   "outputs": [],
   "source": [
    "import pyspark"
   ]
  },
  {
   "cell_type": "code",
   "execution_count": null,
   "id": "a91b48d2",
   "metadata": {},
   "outputs": [],
   "source": []
  },
  {
   "cell_type": "code",
   "execution_count": null,
   "id": "bde9ebec",
   "metadata": {},
   "outputs": [],
   "source": []
  },
  {
   "cell_type": "code",
   "execution_count": null,
   "id": "c31408e3",
   "metadata": {},
   "outputs": [],
   "source": []
  },
  {
   "cell_type": "code",
   "execution_count": 3,
   "id": "2180fff9",
   "metadata": {},
   "outputs": [],
   "source": [
    "spark.read.csv(\"udemy_courses.json\")  \n"
   ]
  },
  {
   "cell_type": "markdown",
   "id": "6d320838",
   "metadata": {},
   "source": [
    "# Questions and Solutions"
   ]
  },
  {
   "cell_type": "markdown",
   "id": "2cca1a0e",
   "metadata": {},
   "source": [
    "###   1. What are the best free courses by subject?"
   ]
  },
  {
   "cell_type": "code",
   "execution_count": null,
   "id": "3066d176",
   "metadata": {},
   "outputs": [],
   "source": []
  },
  {
   "cell_type": "markdown",
   "id": "587283cd",
   "metadata": {},
   "source": [
    "###     2. What are the most popular courses?"
   ]
  },
  {
   "cell_type": "code",
   "execution_count": null,
   "id": "05b49894",
   "metadata": {},
   "outputs": [],
   "source": []
  },
  {
   "cell_type": "markdown",
   "id": "99fa5345",
   "metadata": {},
   "source": [
    "###   3. List the courses that are specialized to “Business Finance” and find the average number of subscribers, reviews, price and lectures on the subject."
   ]
  },
  {
   "cell_type": "code",
   "execution_count": null,
   "id": "a4d0647c",
   "metadata": {},
   "outputs": [],
   "source": []
  },
  {
   "cell_type": "markdown",
   "id": "29326cc2",
   "metadata": {},
   "source": [
    "###   4. How are courses related?"
   ]
  },
  {
   "cell_type": "code",
   "execution_count": null,
   "id": "1cb469b4",
   "metadata": {},
   "outputs": [],
   "source": []
  },
  {
   "cell_type": "markdown",
   "id": "628ada02",
   "metadata": {},
   "source": [
    "###  5. Which courses offer the best cost benefit?"
   ]
  },
  {
   "cell_type": "code",
   "execution_count": null,
   "id": "a17ab505",
   "metadata": {},
   "outputs": [],
   "source": []
  },
  {
   "cell_type": "markdown",
   "id": "8b4a1cc4",
   "metadata": {},
   "source": [
    "###     6. Find the courses which have more than 15 lectures."
   ]
  },
  {
   "cell_type": "code",
   "execution_count": null,
   "id": "d7016d06",
   "metadata": {},
   "outputs": [],
   "source": []
  },
  {
   "cell_type": "markdown",
   "id": "603c03e5",
   "metadata": {},
   "source": [
    "###     7. List courses on the basis of level."
   ]
  },
  {
   "cell_type": "code",
   "execution_count": null,
   "id": "75cc42ab",
   "metadata": {},
   "outputs": [],
   "source": []
  },
  {
   "cell_type": "markdown",
   "id": "279d0d55",
   "metadata": {},
   "source": [
    "###     8. Find the courses which have duration greater than 2 hours."
   ]
  }
 ],
 "metadata": {
  "kernelspec": {
   "display_name": "Python 3 (ipykernel)",
   "language": "python",
   "name": "python3"
  },
  "language_info": {
   "codemirror_mode": {
    "name": "ipython",
    "version": 3
   },
   "file_extension": ".py",
   "mimetype": "text/x-python",
   "name": "python",
   "nbconvert_exporter": "python",
   "pygments_lexer": "ipython3",
   "version": "3.10.6"
  }
 },
 "nbformat": 4,
 "nbformat_minor": 5
}
