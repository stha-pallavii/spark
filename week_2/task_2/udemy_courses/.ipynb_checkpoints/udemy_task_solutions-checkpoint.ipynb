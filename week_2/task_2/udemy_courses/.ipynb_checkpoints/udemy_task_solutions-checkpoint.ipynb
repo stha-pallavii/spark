{
 "cells": [
  {
   "cell_type": "markdown",
   "id": "ac7db8ee",
   "metadata": {},
   "source": [
    "At first, create a spark application, read the json file into a dataframe, and explore the data"
   ]
  },
  {
   "cell_type": "code",
   "execution_count": 4,
   "id": "c6af7e76",
   "metadata": {},
   "outputs": [],
   "source": [
    "from pyspark.sql import SparkSession"
   ]
  },
  {
   "cell_type": "code",
   "execution_count": 5,
   "id": "8b443f9c",
   "metadata": {},
   "outputs": [
    {
     "name": "stdout",
     "output_type": "stream",
     "text": [
      "22/10/19 22:06:26 WARN Utils: Your hostname, pallavi-xps resolves to a loopback address: 127.0.1.1; using 192.168.1.79 instead (on interface wlp2s0)\n",
      "22/10/19 22:06:26 WARN Utils: Set SPARK_LOCAL_IP if you need to bind to another address\n"
     ]
    },
    {
     "name": "stderr",
     "output_type": "stream",
     "text": [
      "Setting default log level to \"WARN\".\n",
      "To adjust logging level use sc.setLogLevel(newLevel). For SparkR, use setLogLevel(newLevel).\n"
     ]
    },
    {
     "name": "stdout",
     "output_type": "stream",
     "text": [
      "22/10/19 22:06:27 WARN NativeCodeLoader: Unable to load native-hadoop library for your platform... using builtin-java classes where applicable\n"
     ]
    }
   ],
   "source": [
    "spark = SparkSession.builder.appName(\"udemy\").getOrCreate()"
   ]
  },
  {
   "cell_type": "code",
   "execution_count": 10,
   "id": "1affb2f4",
   "metadata": {},
   "outputs": [],
   "source": [
    "# read the udemy_courses.json file\n",
    "df = spark.read.format('json').load('udemy_courses.json')"
   ]
  },
  {
   "cell_type": "code",
   "execution_count": 11,
   "id": "02588ede",
   "metadata": {},
   "outputs": [
    {
     "name": "stdout",
     "output_type": "stream",
     "text": [
      "+---------------+------------------+---------+--------------------+-------+------------------+------------+-----------+---------------+-----+--------------------+----------------+--------------------+\n",
      "|_corrupt_record|  content_duration|course_id|        course_title|is_paid|             level|num_lectures|num_reviews|num_subscribers|price| published_timestamp|         subject|                 url|\n",
      "+---------------+------------------+---------+--------------------+-------+------------------+------------+-----------+---------------+-----+--------------------+----------------+--------------------+\n",
      "|           null|               1.5|  1070968|Ultimate Investme...|   True|        All Levels|          51|         23|           2147|  200|2017-01-18T20:58:58Z|Business Finance|https://www.udemy...|\n",
      "|           null|              39.0|  1113822|Complete GST Cour...|   True|        All Levels|         274|        923|           2792|   75|2017-03-09T16:34:20Z|Business Finance|https://www.udemy...|\n",
      "|           null|               2.5|  1006314|Financial Modelin...|   True|Intermediate Level|          51|         74|           2174|   45|2016-12-19T19:26:30Z|Business Finance|https://www.udemy...|\n",
      "|           null|               3.0|  1210588|Beginner to Pro -...|   True|        All Levels|          36|         11|           2451|   95|2017-05-30T20:07:24Z|Business Finance|https://www.udemy...|\n",
      "|           null|               2.0|  1011058|How To Maximize Y...|   True|Intermediate Level|          26|         45|           1276|  200|2016-12-13T14:57:18Z|Business Finance|https://www.udemy...|\n",
      "|           null|               3.0|   192870|Trading Penny Sto...|   True|        All Levels|          25|        138|           9221|  150|2014-05-02T15:13:30Z|Business Finance|https://www.udemy...|\n",
      "|           null|               1.0|   739964|Investing And Tra...|   True|    Beginner Level|          26|        178|           1540|   65|2016-02-21T18:23:12Z|Business Finance|https://www.udemy...|\n",
      "|           null|               2.5|   403100|Trading Stock Cha...|   True|        All Levels|          23|        148|           2917|   95|2015-01-30T22:13:03Z|Business Finance|https://www.udemy...|\n",
      "|           null|               2.5|   476268|Options Trading 3...|   True|      Expert Level|          38|         34|           5172|  195|2015-05-28T00:14:03Z|Business Finance|https://www.udemy...|\n",
      "|           null|               1.0|  1167710|The Only Investme...|   True|        All Levels|          15|         14|            827|  200|2017-04-18T18:13:32Z|Business Finance|https://www.udemy...|\n",
      "|           null|               5.0|   592338|Forex Trading Sec...|   True|        All Levels|          76|         93|           4284|  200|2015-09-11T16:47:02Z|Business Finance|https://www.udemy...|\n",
      "|           null|               1.0|   975046|Trading Options W...|   True|        All Levels|          17|         42|           1380|  200|2016-10-18T22:52:31Z|Business Finance|https://www.udemy...|\n",
      "|           null|               1.5|   742602|Financial Managem...|   True|        All Levels|          19|         21|           3607|   30|2016-02-03T18:04:01Z|Business Finance|https://www.udemy...|\n",
      "|           null|               2.0|   794151|Forex Trading Cou...|   True|        All Levels|          16|         52|           4061|  195|2016-03-16T15:40:19Z|Business Finance|https://www.udemy...|\n",
      "|           null|               7.0|  1196544|Python Algo Tradi...|   True|        All Levels|          42|         19|            294|  200|2017-04-28T16:41:44Z|Business Finance|https://www.udemy...|\n",
      "|           null|               1.5|   504036|Short Selling: Le...|   True|Intermediate Level|          19|        106|           2276|   75|2015-06-22T21:18:35Z|Business Finance|https://www.udemy...|\n",
      "|           null|               1.5|   719698|Basic Technical A...|   True|    Beginner Level|          16|         79|           4919|   20|2016-01-08T17:21:26Z|Business Finance|https://www.udemy...|\n",
      "|           null|               4.0|   564966|The Complete Char...|   True|        All Levels|          52|        115|           2666|  200|2015-08-10T21:07:35Z|Business Finance|https://www.udemy...|\n",
      "|           null|               1.5|   606928|7 Deadly Mistakes...|   True|        All Levels|          23|         24|           5354|   50|2015-09-21T18:10:34Z|Business Finance|https://www.udemy...|\n",
      "|           null|0.5833333333333334|    58977|Financial Stateme...|   True|    Beginner Level|          12|        249|           8095|   95|2013-06-09T00:21:26Z|Business Finance|https://www.udemy...|\n",
      "+---------------+------------------+---------+--------------------+-------+------------------+------------+-----------+---------------+-----+--------------------+----------------+--------------------+\n",
      "only showing top 20 rows\n",
      "\n"
     ]
    }
   ],
   "source": [
    "#view the data in the dataframe\n",
    "df.show()"
   ]
  },
  {
   "cell_type": "code",
   "execution_count": null,
   "id": "49cd36a8",
   "metadata": {},
   "outputs": [],
   "source": []
  },
  {
   "cell_type": "code",
   "execution_count": 10,
   "id": "f9667600",
   "metadata": {},
   "outputs": [
    {
     "name": "stdout",
     "output_type": "stream",
     "text": [
      "root\n",
      " |-- _corrupt_record: string (nullable = true)\n",
      " |-- content_duration: string (nullable = true)\n",
      " |-- course_id: string (nullable = true)\n",
      " |-- course_title: string (nullable = true)\n",
      " |-- is_paid: string (nullable = true)\n",
      " |-- level: string (nullable = true)\n",
      " |-- num_lectures: string (nullable = true)\n",
      " |-- num_reviews: string (nullable = true)\n",
      " |-- num_subscribers: string (nullable = true)\n",
      " |-- price: string (nullable = true)\n",
      " |-- published_timestamp: string (nullable = true)\n",
      " |-- subject: string (nullable = true)\n",
      " |-- url: string (nullable = true)\n",
      "\n"
     ]
    }
   ],
   "source": [
    "#view the schema of the dataframe\n",
    "df.printSchema()"
   ]
  },
  {
   "cell_type": "code",
   "execution_count": 29,
   "id": "b28bce7d",
   "metadata": {},
   "outputs": [
    {
     "name": "stdout",
     "output_type": "stream",
     "text": [
      "root\n",
      " |-- _corrupt_record: string (nullable = true)\n",
      " |-- content_duration: float (nullable = true)\n",
      " |-- course_id: integer (nullable = true)\n",
      " |-- course_title: string (nullable = true)\n",
      " |-- is_paid: boolean (nullable = true)\n",
      " |-- level: string (nullable = true)\n",
      " |-- num_lectures: integer (nullable = true)\n",
      " |-- num_reviews: integer (nullable = true)\n",
      " |-- num_subscribers: integer (nullable = true)\n",
      " |-- price: integer (nullable = true)\n",
      " |-- published_timestamp: timestamp (nullable = true)\n",
      " |-- subject: string (nullable = true)\n",
      " |-- url: string (nullable = true)\n",
      "\n"
     ]
    }
   ],
   "source": [
    "#all columns have data type string. So, we need to convert the datatypes using cast method\n",
    "\n",
    "from pyspark.sql.types import StringType, FloatType, IntegerType, BooleanType, TimestampType\n",
    "from pyspark.sql.functions import col\n",
    "\n",
    "\n",
    "df = df\\\n",
    "            .withColumn('_corrupt_record', col('_corrupt_record').cast(StringType()))\\\n",
    "            .withColumn('content_duration', col('content_duration').cast(FloatType()))\\\n",
    "            .withColumn('course_id', col('course_id').cast(IntegerType()))\\\n",
    "            .withColumn('course_title', col('course_title').cast(StringType()))\\\n",
    "            .withColumn('is_paid', col('is_paid').cast(BooleanType()))\\\n",
    "            .withColumn('level', col('level').cast(StringType()))\\\n",
    "            .withColumn('num_lectures', col('num_lectures').cast(IntegerType()))\\\n",
    "            .withColumn('num_reviews', col('num_reviews').cast(IntegerType()))\\\n",
    "            .withColumn('num_subscribers', col('num_subscribers').cast(IntegerType()))\\\n",
    "            .withColumn('price', col('price').cast(IntegerType()))\\\n",
    "            .withColumn('published_timestamp', col('published_timestamp').cast(TimestampType()))\\\n",
    "            .withColumn('subject', col('subject').cast(StringType()))\\\n",
    "            .withColumn('url', col('url').cast(StringType()))\n",
    "\n",
    "\n",
    "# df = df.na.drop(subset=['Region'])\n",
    "df.printSchema()"
   ]
  },
  {
   "cell_type": "code",
   "execution_count": 30,
   "id": "46cd02c5",
   "metadata": {},
   "outputs": [
    {
     "name": "stdout",
     "output_type": "stream",
     "text": [
      "+---------------+----------------+---------+--------------------+-------+------------------+------------+-----------+---------------+-----+-------------------+----------------+--------------------+\n",
      "|_corrupt_record|content_duration|course_id|        course_title|is_paid|             level|num_lectures|num_reviews|num_subscribers|price|published_timestamp|         subject|                 url|\n",
      "+---------------+----------------+---------+--------------------+-------+------------------+------------+-----------+---------------+-----+-------------------+----------------+--------------------+\n",
      "|           null|             1.5|  1070968|Ultimate Investme...|   true|        All Levels|          51|         23|           2147|  200|2017-01-19 02:43:58|Business Finance|https://www.udemy...|\n",
      "|           null|            39.0|  1113822|Complete GST Cour...|   true|        All Levels|         274|        923|           2792|   75|2017-03-09 22:19:20|Business Finance|https://www.udemy...|\n",
      "|           null|             2.5|  1006314|Financial Modelin...|   true|Intermediate Level|          51|         74|           2174|   45|2016-12-20 01:11:30|Business Finance|https://www.udemy...|\n",
      "|           null|             3.0|  1210588|Beginner to Pro -...|   true|        All Levels|          36|         11|           2451|   95|2017-05-31 01:52:24|Business Finance|https://www.udemy...|\n",
      "|           null|             2.0|  1011058|How To Maximize Y...|   true|Intermediate Level|          26|         45|           1276|  200|2016-12-13 20:42:18|Business Finance|https://www.udemy...|\n",
      "|           null|             3.0|   192870|Trading Penny Sto...|   true|        All Levels|          25|        138|           9221|  150|2014-05-02 20:58:30|Business Finance|https://www.udemy...|\n",
      "|           null|             1.0|   739964|Investing And Tra...|   true|    Beginner Level|          26|        178|           1540|   65|2016-02-22 00:08:12|Business Finance|https://www.udemy...|\n",
      "|           null|             2.5|   403100|Trading Stock Cha...|   true|        All Levels|          23|        148|           2917|   95|2015-01-31 03:58:03|Business Finance|https://www.udemy...|\n",
      "|           null|             2.5|   476268|Options Trading 3...|   true|      Expert Level|          38|         34|           5172|  195|2015-05-28 05:59:03|Business Finance|https://www.udemy...|\n",
      "|           null|             1.0|  1167710|The Only Investme...|   true|        All Levels|          15|         14|            827|  200|2017-04-18 23:58:32|Business Finance|https://www.udemy...|\n",
      "|           null|             5.0|   592338|Forex Trading Sec...|   true|        All Levels|          76|         93|           4284|  200|2015-09-11 22:32:02|Business Finance|https://www.udemy...|\n",
      "|           null|             1.0|   975046|Trading Options W...|   true|        All Levels|          17|         42|           1380|  200|2016-10-19 04:37:31|Business Finance|https://www.udemy...|\n",
      "|           null|             1.5|   742602|Financial Managem...|   true|        All Levels|          19|         21|           3607|   30|2016-02-03 23:49:01|Business Finance|https://www.udemy...|\n",
      "|           null|             2.0|   794151|Forex Trading Cou...|   true|        All Levels|          16|         52|           4061|  195|2016-03-16 21:25:19|Business Finance|https://www.udemy...|\n",
      "|           null|             7.0|  1196544|Python Algo Tradi...|   true|        All Levels|          42|         19|            294|  200|2017-04-28 22:26:44|Business Finance|https://www.udemy...|\n",
      "|           null|             1.5|   504036|Short Selling: Le...|   true|Intermediate Level|          19|        106|           2276|   75|2015-06-23 03:03:35|Business Finance|https://www.udemy...|\n",
      "|           null|             1.5|   719698|Basic Technical A...|   true|    Beginner Level|          16|         79|           4919|   20|2016-01-08 23:06:26|Business Finance|https://www.udemy...|\n",
      "|           null|             4.0|   564966|The Complete Char...|   true|        All Levels|          52|        115|           2666|  200|2015-08-11 02:52:35|Business Finance|https://www.udemy...|\n",
      "|           null|             1.5|   606928|7 Deadly Mistakes...|   true|        All Levels|          23|         24|           5354|   50|2015-09-21 23:55:34|Business Finance|https://www.udemy...|\n",
      "|           null|       0.5833333|    58977|Financial Stateme...|   true|    Beginner Level|          12|        249|           8095|   95|2013-06-09 06:06:26|Business Finance|https://www.udemy...|\n",
      "+---------------+----------------+---------+--------------------+-------+------------------+------------+-----------+---------------+-----+-------------------+----------------+--------------------+\n",
      "only showing top 20 rows\n",
      "\n"
     ]
    }
   ],
   "source": [
    "df.show()"
   ]
  },
  {
   "cell_type": "code",
   "execution_count": 32,
   "id": "0dd9aab6",
   "metadata": {},
   "outputs": [],
   "source": [
    "#create SQL table from dataframe\n",
    "\n",
    "df.createOrReplaceTempView(\"dftable\")"
   ]
  },
  {
   "cell_type": "markdown",
   "id": "5e972b90",
   "metadata": {},
   "source": [
    "# Questions and Solutions"
   ]
  },
  {
   "cell_type": "markdown",
   "id": "e89d30f6",
   "metadata": {},
   "source": [
    "###   1. What are the best free courses by subject?"
   ]
  },
  {
   "cell_type": "code",
   "execution_count": 19,
   "id": "cf149a5c",
   "metadata": {},
   "outputs": [
    {
     "ename": "AnalysisException",
     "evalue": "expression 'dftable.course_id' is neither present in the group by, nor is it an aggregate function. Add to group by or wrap in first() (or first_value) if you don't care which value you get.;\nAggregate [subject#19], [subject#19, course_id#10, course_title#11, num_reviews#15]\n+- SubqueryAlias dftable\n   +- View (`dftable`, [_corrupt_record#8,content_duration#9,course_id#10,course_title#11,is_paid#12,level#13,num_lectures#14,num_reviews#15,num_subscribers#16,price#17,published_timestamp#18,subject#19,url#20])\n      +- Relation [_corrupt_record#8,content_duration#9,course_id#10,course_title#11,is_paid#12,level#13,num_lectures#14,num_reviews#15,num_subscribers#16,price#17,published_timestamp#18,subject#19,url#20] json\n",
     "output_type": "error",
     "traceback": [
      "\u001b[0;31m---------------------------------------------------------------------------\u001b[0m",
      "\u001b[0;31mAnalysisException\u001b[0m                         Traceback (most recent call last)",
      "\u001b[0;32m/tmp/ipykernel_9898/1806578397.py\u001b[0m in \u001b[0;36m<module>\u001b[0;34m\u001b[0m\n\u001b[0;32m----> 1\u001b[0;31m best_free_courses = spark.sql(\"\"\"\n\u001b[0m\u001b[1;32m      2\u001b[0m                                 \u001b[0mSELECT\u001b[0m \u001b[0msubject\u001b[0m\u001b[0;34m,\u001b[0m \u001b[0mcourse_id\u001b[0m\u001b[0;34m,\u001b[0m \u001b[0mcourse_title\u001b[0m\u001b[0;34m,\u001b[0m \u001b[0mnum_reviews\u001b[0m\u001b[0;34m\u001b[0m\u001b[0;34m\u001b[0m\u001b[0m\n\u001b[1;32m      3\u001b[0m                                 \u001b[0mFROM\u001b[0m \u001b[0mdftable\u001b[0m\u001b[0;34m\u001b[0m\u001b[0;34m\u001b[0m\u001b[0m\n\u001b[1;32m      4\u001b[0m                                 GROUP BY subject\"\"\")\n",
      "\u001b[0;32m~/.local/lib/python3.10/site-packages/pyspark/sql/session.py\u001b[0m in \u001b[0;36msql\u001b[0;34m(self, sqlQuery, **kwargs)\u001b[0m\n\u001b[1;32m   1032\u001b[0m             \u001b[0msqlQuery\u001b[0m \u001b[0;34m=\u001b[0m \u001b[0mformatter\u001b[0m\u001b[0;34m.\u001b[0m\u001b[0mformat\u001b[0m\u001b[0;34m(\u001b[0m\u001b[0msqlQuery\u001b[0m\u001b[0;34m,\u001b[0m \u001b[0;34m**\u001b[0m\u001b[0mkwargs\u001b[0m\u001b[0;34m)\u001b[0m\u001b[0;34m\u001b[0m\u001b[0;34m\u001b[0m\u001b[0m\n\u001b[1;32m   1033\u001b[0m         \u001b[0;32mtry\u001b[0m\u001b[0;34m:\u001b[0m\u001b[0;34m\u001b[0m\u001b[0;34m\u001b[0m\u001b[0m\n\u001b[0;32m-> 1034\u001b[0;31m             \u001b[0;32mreturn\u001b[0m \u001b[0mDataFrame\u001b[0m\u001b[0;34m(\u001b[0m\u001b[0mself\u001b[0m\u001b[0;34m.\u001b[0m\u001b[0m_jsparkSession\u001b[0m\u001b[0;34m.\u001b[0m\u001b[0msql\u001b[0m\u001b[0;34m(\u001b[0m\u001b[0msqlQuery\u001b[0m\u001b[0;34m)\u001b[0m\u001b[0;34m,\u001b[0m \u001b[0mself\u001b[0m\u001b[0;34m)\u001b[0m\u001b[0;34m\u001b[0m\u001b[0;34m\u001b[0m\u001b[0m\n\u001b[0m\u001b[1;32m   1035\u001b[0m         \u001b[0;32mfinally\u001b[0m\u001b[0;34m:\u001b[0m\u001b[0;34m\u001b[0m\u001b[0;34m\u001b[0m\u001b[0m\n\u001b[1;32m   1036\u001b[0m             \u001b[0;32mif\u001b[0m \u001b[0mlen\u001b[0m\u001b[0;34m(\u001b[0m\u001b[0mkwargs\u001b[0m\u001b[0;34m)\u001b[0m \u001b[0;34m>\u001b[0m \u001b[0;36m0\u001b[0m\u001b[0;34m:\u001b[0m\u001b[0;34m\u001b[0m\u001b[0;34m\u001b[0m\u001b[0m\n",
      "\u001b[0;32m~/.local/lib/python3.10/site-packages/py4j/java_gateway.py\u001b[0m in \u001b[0;36m__call__\u001b[0;34m(self, *args)\u001b[0m\n\u001b[1;32m   1319\u001b[0m \u001b[0;34m\u001b[0m\u001b[0m\n\u001b[1;32m   1320\u001b[0m         \u001b[0manswer\u001b[0m \u001b[0;34m=\u001b[0m \u001b[0mself\u001b[0m\u001b[0;34m.\u001b[0m\u001b[0mgateway_client\u001b[0m\u001b[0;34m.\u001b[0m\u001b[0msend_command\u001b[0m\u001b[0;34m(\u001b[0m\u001b[0mcommand\u001b[0m\u001b[0;34m)\u001b[0m\u001b[0;34m\u001b[0m\u001b[0;34m\u001b[0m\u001b[0m\n\u001b[0;32m-> 1321\u001b[0;31m         return_value = get_return_value(\n\u001b[0m\u001b[1;32m   1322\u001b[0m             answer, self.gateway_client, self.target_id, self.name)\n\u001b[1;32m   1323\u001b[0m \u001b[0;34m\u001b[0m\u001b[0m\n",
      "\u001b[0;32m~/.local/lib/python3.10/site-packages/pyspark/sql/utils.py\u001b[0m in \u001b[0;36mdeco\u001b[0;34m(*a, **kw)\u001b[0m\n\u001b[1;32m    194\u001b[0m                 \u001b[0;31m# Hide where the exception came from that shows a non-Pythonic\u001b[0m\u001b[0;34m\u001b[0m\u001b[0;34m\u001b[0m\u001b[0m\n\u001b[1;32m    195\u001b[0m                 \u001b[0;31m# JVM exception message.\u001b[0m\u001b[0;34m\u001b[0m\u001b[0;34m\u001b[0m\u001b[0m\n\u001b[0;32m--> 196\u001b[0;31m                 \u001b[0;32mraise\u001b[0m \u001b[0mconverted\u001b[0m \u001b[0;32mfrom\u001b[0m \u001b[0;32mNone\u001b[0m\u001b[0;34m\u001b[0m\u001b[0;34m\u001b[0m\u001b[0m\n\u001b[0m\u001b[1;32m    197\u001b[0m             \u001b[0;32melse\u001b[0m\u001b[0;34m:\u001b[0m\u001b[0;34m\u001b[0m\u001b[0;34m\u001b[0m\u001b[0m\n\u001b[1;32m    198\u001b[0m                 \u001b[0;32mraise\u001b[0m\u001b[0;34m\u001b[0m\u001b[0;34m\u001b[0m\u001b[0m\n",
      "\u001b[0;31mAnalysisException\u001b[0m: expression 'dftable.course_id' is neither present in the group by, nor is it an aggregate function. Add to group by or wrap in first() (or first_value) if you don't care which value you get.;\nAggregate [subject#19], [subject#19, course_id#10, course_title#11, num_reviews#15]\n+- SubqueryAlias dftable\n   +- View (`dftable`, [_corrupt_record#8,content_duration#9,course_id#10,course_title#11,is_paid#12,level#13,num_lectures#14,num_reviews#15,num_subscribers#16,price#17,published_timestamp#18,subject#19,url#20])\n      +- Relation [_corrupt_record#8,content_duration#9,course_id#10,course_title#11,is_paid#12,level#13,num_lectures#14,num_reviews#15,num_subscribers#16,price#17,published_timestamp#18,subject#19,url#20] json\n"
     ]
    }
   ],
   "source": [
    "best_free_courses = spark.sql(\"\"\"\n",
    "                                SELECT subject, course_title from dftable\n",
    "                                \n",
    "                                 \"\"\")"
   ]
  },
  {
   "cell_type": "markdown",
   "id": "024b94d8",
   "metadata": {},
   "source": [
    "###     2. What are the most popular courses?"
   ]
  },
  {
   "cell_type": "code",
   "execution_count": null,
   "id": "960fd5e6",
   "metadata": {},
   "outputs": [],
   "source": [
    "select course_from dftable where "
   ]
  },
  {
   "cell_type": "code",
   "execution_count": 24,
   "id": "7088d708",
   "metadata": {},
   "outputs": [],
   "source": [
    "popular_courses = spark.sql(\"\"\"\n",
    "SELECT a.course_id, a.course_title, a.num_subscribers\n",
    "FROM dftable a\n",
    "INNER JOIN (\n",
    "    SELECT b.course_id, MAX(b.num_subscribers) as No_of_Subscribers\n",
    "    FROM dftable b\n",
    "    GROUP BY b.course_id\n",
    ") b ON a.course_id = b.course_id\"\"\")"
   ]
  },
  {
   "cell_type": "code",
   "execution_count": 25,
   "id": "862d2add",
   "metadata": {},
   "outputs": [
    {
     "name": "stdout",
     "output_type": "stream",
     "text": [
      "+---------+--------------------+---------------+\n",
      "|course_id|        course_title|num_subscribers|\n",
      "+---------+--------------------+---------------+\n",
      "|  1070968|Ultimate Investme...|           2147|\n",
      "|  1113822|Complete GST Cour...|           2792|\n",
      "|  1006314|Financial Modelin...|           2174|\n",
      "|  1210588|Beginner to Pro -...|           2451|\n",
      "|  1011058|How To Maximize Y...|           1276|\n",
      "|   192870|Trading Penny Sto...|           9221|\n",
      "|   739964|Investing And Tra...|           1540|\n",
      "|   403100|Trading Stock Cha...|           2917|\n",
      "|   476268|Options Trading 3...|           5172|\n",
      "|  1167710|The Only Investme...|            827|\n",
      "|   592338|Forex Trading Sec...|           4284|\n",
      "|   975046|Trading Options W...|           1380|\n",
      "|   742602|Financial Managem...|           3607|\n",
      "|   794151|Forex Trading Cou...|           4061|\n",
      "|  1196544|Python Algo Tradi...|            294|\n",
      "|   504036|Short Selling: Le...|           2276|\n",
      "|   719698|Basic Technical A...|           4919|\n",
      "|   564966|The Complete Char...|           2666|\n",
      "|   606928|7 Deadly Mistakes...|           5354|\n",
      "|    58977|Financial Stateme...|           8095|\n",
      "+---------+--------------------+---------------+\n",
      "only showing top 20 rows\n",
      "\n"
     ]
    }
   ],
   "source": [
    "popular_courses.show()"
   ]
  },
  {
   "cell_type": "markdown",
   "id": "9401aa7b",
   "metadata": {},
   "source": [
    "###   3. List the courses that are specialized to “Business Finance” and find the average number of subscribers, reviews, price and lectures on the subject."
   ]
  },
  {
   "cell_type": "code",
   "execution_count": 49,
   "id": "7cfa9c93",
   "metadata": {},
   "outputs": [
    {
     "name": "stdout",
     "output_type": "stream",
     "text": [
      "+--------------------+---------------------+-----------------+---------+------------------+\n",
      "|             courses|avg_no_of_subscribers|avg_no_of_reviews|avg_price|avg_no_of_lectures|\n",
      "+--------------------+---------------------+-----------------+---------+------------------+\n",
      "|Forex SOS Course:...|               1315.0|             48.0|     50.0|              59.0|\n",
      "|Accounting Standa...|               2222.0|              9.0|     20.0|              12.0|\n",
      "|Collection of Adv...|               2025.0|             34.0|     40.0|               9.0|\n",
      "|Buying Call and P...|                266.0|             20.0|     60.0|              14.0|\n",
      "|MQL4 Tutorial Boo...|               1278.0|             33.0|     30.0|              23.0|\n",
      "|FMT: Forex Market...|                  1.0|              0.0|     20.0|              27.0|\n",
      "|        Equity Swaps|                394.0|             25.0|     50.0|              18.0|\n",
      "|Trade Stocks, For...|                116.0|              6.0|     20.0|              12.0|\n",
      "|Term Loan Apprais...|                 11.0|              2.0|     20.0|              28.0|\n",
      "|Professional Fore...|                353.0|             21.0|     50.0|              17.0|\n",
      "|Financial Model F...|                 47.0|              5.0|     75.0|              27.0|\n",
      "|2 Easy Steps To I...|                828.0|              1.0|     20.0|              20.0|\n",
      "|CFA® Level 1 2014...|                831.0|              1.0|     30.0|              13.0|\n",
      "|Forex para Princi...|                813.0|             94.0|    140.0|              52.0|\n",
      "|Basics of Tax in ...|                718.0|              5.0|     20.0|              28.0|\n",
      "|Como hacer empres...|                 11.0|              2.0|     20.0|              10.0|\n",
      "|Technical Analysi...|               3555.0|             89.0|     40.0|              11.0|\n",
      "|Trend Following S...|               1202.0|             76.0|     95.0|              64.0|\n",
      "|MQL4 Programming ...|               1367.0|             33.0|    195.0|              74.0|\n",
      "|Financial Risk Ma...|                 86.0|              7.0|     50.0|              87.0|\n",
      "+--------------------+---------------------+-----------------+---------+------------------+\n",
      "only showing top 20 rows\n",
      "\n"
     ]
    }
   ],
   "source": [
    "business_finance_courses = spark.sql(\"\"\"\n",
    "                                SELECT course_title courses,\n",
    "                                avg(num_subscribers) avg_no_of_subscribers,\n",
    "                                avg(num_reviews) avg_no_of_reviews,\n",
    "                                avg(price) avg_price,\n",
    "                                avg(num_lectures) avg_no_of_lectures\n",
    "                                from dftable                        \n",
    "                                where subject = \"Business Finance\"\n",
    "                                group by course_title\n",
    "                                \"\"\")\n",
    "\n",
    "business_finance_courses.show()"
   ]
  },
  {
   "cell_type": "code",
   "execution_count": 40,
   "id": "8c163e37",
   "metadata": {},
   "outputs": [
    {
     "name": "stdout",
     "output_type": "stream",
     "text": [
      "+----------------------+------------------+-----------------+-------------------+\n",
      "|avg_num_of_subscribers|avg_num_of_reviews|        avg_price|avg_num_of_lectures|\n",
      "+----------------------+------------------+-----------------+-------------------+\n",
      "|    1563.7748953974894|  63.5163179916318|68.55230125523012|  32.43096234309623|\n",
      "+----------------------+------------------+-----------------+-------------------+\n",
      "\n"
     ]
    }
   ],
   "source": [
    "average_data = spark.sql(\"\"\"\n",
    "select avg(num_subscribers) avg_num_of_subscribers, \n",
    "avg(num_reviews) avg_num_of_reviews,\n",
    "avg(price) avg_price,\n",
    "avg(num_lectures) avg_num_of_lectures\n",
    "from dftable\n",
    "where subject = \"Business Finance\"\n",
    "\"\"\")\n",
    "\n",
    "average_data.show()"
   ]
  },
  {
   "cell_type": "markdown",
   "id": "7f3a18f0",
   "metadata": {},
   "source": [
    "###   4. How are courses related?"
   ]
  },
  {
   "cell_type": "code",
   "execution_count": null,
   "id": "2f4abf0b",
   "metadata": {},
   "outputs": [],
   "source": []
  },
  {
   "cell_type": "markdown",
   "id": "89f8f62c",
   "metadata": {},
   "source": [
    "###  5. Which courses offer the best cost benefit?"
   ]
  },
  {
   "cell_type": "code",
   "execution_count": null,
   "id": "85b4bfdf",
   "metadata": {},
   "outputs": [],
   "source": []
  },
  {
   "cell_type": "markdown",
   "id": "7a41fc50",
   "metadata": {},
   "source": [
    "###     6. Find the courses which have more than 15 lectures."
   ]
  },
  {
   "cell_type": "code",
   "execution_count": 54,
   "id": "4fab30d8",
   "metadata": {},
   "outputs": [
    {
     "name": "stdout",
     "output_type": "stream",
     "text": [
      "+--------------------+------------------+\n",
      "|        course_title|number_of_lectures|\n",
      "+--------------------+------------------+\n",
      "|JavaScript Fundam...|               100|\n",
      "|Master Flute Play...|               100|\n",
      "|Curso Avanzado de...|               100|\n",
      "|   Learning Drupal 8|               101|\n",
      "|Learning CSS3 - A...|               101|\n",
      "|Financial Account...|               101|\n",
      "|Acoustic Blues Gu...|               101|\n",
      "|Projects in Expre...|               102|\n",
      "|Hedge and Mutual ...|               102|\n",
      "|CFA® Level 1 2014...|               102|\n",
      "|Master the Bassoo...|               102|\n",
      "|Professional Pyth...|               102|\n",
      "|Learn Fun Dreamy ...|               102|\n",
      "|Python for Financ...|               103|\n",
      "|Corel Draw X7 Eği...|               103|\n",
      "|BDD with Ruby on ...|               103|\n",
      "|Master EmberJS : ...|               103|\n",
      "|Easy Piano for Ki...|               104|\n",
      "|Guitar Super Syst...|               104|\n",
      "|The Complete Guid...|               104|\n",
      "+--------------------+------------------+\n",
      "only showing top 20 rows\n",
      "\n"
     ]
    }
   ],
   "source": [
    "courses = spark.sql(\"\"\"\n",
    "                    SELECT course_title, num_lectures number_of_lectures\n",
    "                    FROM dftable\n",
    "                    WHERE num_lectures > 15\n",
    "                    ORDER BY num_lectures\n",
    "                    \"\"\")\n",
    "\n",
    "courses.show()"
   ]
  },
  {
   "cell_type": "markdown",
   "id": "c107ffe5",
   "metadata": {},
   "source": [
    "###     7. List courses on the basis of level."
   ]
  },
  {
   "cell_type": "code",
   "execution_count": 37,
   "id": "5d43d18c",
   "metadata": {},
   "outputs": [
    {
     "name": "stdout",
     "output_type": "stream",
     "text": [
      "+------------------+--------------------+\n",
      "|             level|         Course List|\n",
      "+------------------+--------------------+\n",
      "|              null|                  []|\n",
      "|        All Levels|[Quick Piano Less...|\n",
      "|    Beginner Level|[First Web Applic...|\n",
      "|      Expert Level|[Trading Robot Fo...|\n",
      "|Intermediate Level|[Learn Corel x7 L...|\n",
      "+------------------+--------------------+\n",
      "\n"
     ]
    }
   ],
   "source": [
    "from pyspark.sql import Window as W\n",
    "from pyspark.sql.functions import collect_list, collect_set, explode\n",
    "\n",
    "window_spec = W.partitionBy('level')\n",
    "course_list_df = df\\\n",
    "                .withColumn('Course List', collect_set('course_title').over(window_spec))\\\n",
    "                .select('level', 'Course List')\\\n",
    "                .distinct()\n",
    "\n",
    "course_list_df.show()"
   ]
  },
  {
   "cell_type": "code",
   "execution_count": null,
   "id": "5e09c40c",
   "metadata": {},
   "outputs": [],
   "source": [
    "# assuming item type list\n",
    "from pyspark.sql import Window as W\n",
    "from pyspark.sql.functions import collect_list, collect_set, explode\n",
    "\n",
    "window_spec = W.partitionBy('Country')\n",
    "country_item_list_df = sales_df\\\n",
    "                        .withColumn('Item List', collect_set('Item Type').over(window_spec))\\\n",
    "                        .select('Country', 'Item List')\\\n",
    "                        .distinct()\n",
    "\n",
    "country_item_list_df.show()"
   ]
  },
  {
   "cell_type": "markdown",
   "id": "c7e398f3",
   "metadata": {},
   "source": [
    "###     8. Find the courses which have duration greater than 2 hours."
   ]
  },
  {
   "cell_type": "code",
   "execution_count": 68,
   "id": "e5e7c207",
   "metadata": {},
   "outputs": [
    {
     "name": "stdout",
     "output_type": "stream",
     "text": [
      "+---------+--------------------+--------------+\n",
      "|course_id|        course_title|duration_hours|\n",
      "+---------+--------------------+--------------+\n",
      "|   364810|Double your Forex...|           2.5|\n",
      "|   743914|Value Investing F...|           2.5|\n",
      "|   637922|Venture Capital. ...|           2.5|\n",
      "|   403100|Trading Stock Cha...|           2.5|\n",
      "|   876646|Direction-Indepen...|           2.5|\n",
      "|  1170894|Python Algo Stock...|           2.5|\n",
      "|   244000|Forex Trading: Th...|           2.5|\n",
      "|   401784|Options Trading I...|           2.5|\n",
      "|   831940|Fundamentals of A...|           2.5|\n",
      "|   421054|Auditing Basics (...|           2.5|\n",
      "|   358062|Financial Modelin...|           2.5|\n",
      "|   538540|Forex Trading vs ...|           2.5|\n",
      "|  1209694|Become A Forex Tr...|           2.5|\n",
      "|   252396|How to Pick The R...|           2.5|\n",
      "|   891490|Accounting Superp...|           2.5|\n",
      "|  1103590|Trading con retro...|           2.5|\n",
      "|  1006314|Financial Modelin...|           2.5|\n",
      "|   507486|Technical Analysi...|           2.5|\n",
      "|   891484|Forex Trading - A...|           2.5|\n",
      "|   476880|Financial Model F...|           2.5|\n",
      "+---------+--------------------+--------------+\n",
      "only showing top 20 rows\n",
      "\n"
     ]
    }
   ],
   "source": [
    "courses_duration = spark.sql(\"\"\"\n",
    "                                SELECT course_id, course_title, content_duration duration_hours\n",
    "                                FROM dftable\n",
    "                                WHERE content_duration > \"2.0\"\n",
    "                                ORDER BY 3\n",
    "                                \"\"\")\n",
    "\n",
    "courses_duration.show()"
   ]
  },
  {
   "cell_type": "code",
   "execution_count": null,
   "id": "a0c7299c",
   "metadata": {},
   "outputs": [],
   "source": []
  }
 ],
 "metadata": {
  "kernelspec": {
   "display_name": "Python 3 (ipykernel)",
   "language": "python",
   "name": "python3"
  },
  "language_info": {
   "codemirror_mode": {
    "name": "ipython",
    "version": 3
   },
   "file_extension": ".py",
   "mimetype": "text/x-python",
   "name": "python",
   "nbconvert_exporter": "python",
   "pygments_lexer": "ipython3",
   "version": "3.10.6"
  }
 },
 "nbformat": 4,
 "nbformat_minor": 5
}
