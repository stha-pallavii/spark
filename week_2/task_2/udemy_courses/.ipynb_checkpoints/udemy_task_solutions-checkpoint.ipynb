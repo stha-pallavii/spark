{
 "cells": [
  {
   "cell_type": "markdown",
   "id": "cf356e0f",
   "metadata": {},
   "source": [
    "#### data: udemy_courses.json\n",
    "#### questions: udemy_questions.docx\n",
    "#### notebook: udemy_task_solutions.ipynb\n",
    "#### python file: udemy_task_solutions.py"
   ]
  },
  {
   "cell_type": "markdown",
   "id": "ac7db8ee",
   "metadata": {},
   "source": [
    "At first, create a spark application, read the json file into a dataframe, and explore the data"
   ]
  },
  {
   "cell_type": "code",
   "execution_count": 2,
   "id": "c6af7e76",
   "metadata": {},
   "outputs": [],
   "source": [
    "from pyspark.sql import SparkSession"
   ]
  },
  {
   "cell_type": "code",
   "execution_count": 3,
   "id": "8b443f9c",
   "metadata": {},
   "outputs": [
    {
     "name": "stdout",
     "output_type": "stream",
     "text": [
      "22/10/20 16:39:46 WARN Utils: Your hostname, pallavi-xps resolves to a loopback address: 127.0.1.1; using 192.168.1.79 instead (on interface wlp2s0)\n",
      "22/10/20 16:39:46 WARN Utils: Set SPARK_LOCAL_IP if you need to bind to another address\n"
     ]
    },
    {
     "name": "stderr",
     "output_type": "stream",
     "text": [
      "Setting default log level to \"WARN\".\n",
      "To adjust logging level use sc.setLogLevel(newLevel). For SparkR, use setLogLevel(newLevel).\n"
     ]
    },
    {
     "name": "stdout",
     "output_type": "stream",
     "text": [
      "22/10/20 16:39:46 WARN NativeCodeLoader: Unable to load native-hadoop library for your platform... using builtin-java classes where applicable\n",
      "22/10/20 16:39:47 WARN Utils: Service 'SparkUI' could not bind on port 4040. Attempting port 4041.\n",
      "22/10/20 16:39:47 WARN Utils: Service 'SparkUI' could not bind on port 4041. Attempting port 4042.\n"
     ]
    }
   ],
   "source": [
    "spark = SparkSession.builder.appName(\"udemy\").getOrCreate()"
   ]
  },
  {
   "cell_type": "code",
   "execution_count": 4,
   "id": "1affb2f4",
   "metadata": {},
   "outputs": [],
   "source": [
    "# read the udemy_courses.json file\n",
    "udemy_df = spark.read.format('json').load('udemy_courses.json')"
   ]
  },
  {
   "cell_type": "code",
   "execution_count": 5,
   "id": "02588ede",
   "metadata": {},
   "outputs": [],
   "source": [
    "#view the data in the dataframe\n",
    "# udemy_df.show()"
   ]
  },
  {
   "cell_type": "code",
   "execution_count": 6,
   "id": "4c8af3f0",
   "metadata": {},
   "outputs": [],
   "source": [
    "#removing corrupt record column\n",
    "\n",
    "udemy_df = udemy_df.drop('_corrupt_record')"
   ]
  },
  {
   "cell_type": "code",
   "execution_count": 7,
   "id": "f9667600",
   "metadata": {},
   "outputs": [
    {
     "name": "stdout",
     "output_type": "stream",
     "text": [
      "root\n",
      " |-- content_duration: string (nullable = true)\n",
      " |-- course_id: string (nullable = true)\n",
      " |-- course_title: string (nullable = true)\n",
      " |-- is_paid: string (nullable = true)\n",
      " |-- level: string (nullable = true)\n",
      " |-- num_lectures: string (nullable = true)\n",
      " |-- num_reviews: string (nullable = true)\n",
      " |-- num_subscribers: string (nullable = true)\n",
      " |-- price: string (nullable = true)\n",
      " |-- published_timestamp: string (nullable = true)\n",
      " |-- subject: string (nullable = true)\n",
      " |-- url: string (nullable = true)\n",
      "\n"
     ]
    }
   ],
   "source": [
    "#view the schema of the dataframe\n",
    "udemy_df.printSchema()"
   ]
  },
  {
   "cell_type": "code",
   "execution_count": 8,
   "id": "0e11d3b1",
   "metadata": {},
   "outputs": [
    {
     "name": "stdout",
     "output_type": "stream",
     "text": [
      "root\n",
      " |-- content_duration: float (nullable = true)\n",
      " |-- course_id: integer (nullable = true)\n",
      " |-- course_title: string (nullable = true)\n",
      " |-- is_paid: boolean (nullable = true)\n",
      " |-- level: string (nullable = true)\n",
      " |-- num_lectures: integer (nullable = true)\n",
      " |-- num_reviews: integer (nullable = true)\n",
      " |-- num_subscribers: integer (nullable = true)\n",
      " |-- price: integer (nullable = true)\n",
      " |-- published_timestamp: timestamp (nullable = true)\n",
      " |-- subject: string (nullable = true)\n",
      " |-- url: string (nullable = true)\n",
      "\n"
     ]
    }
   ],
   "source": [
    "#all columns have data type string. So, we need to convert the datatypes using cast method\n",
    "\n",
    "from pyspark.sql.types import StringType, FloatType, IntegerType, BooleanType, TimestampType\n",
    "from pyspark.sql.functions import col\n",
    "\n",
    "\n",
    "udemy_df = udemy_df\\\n",
    "            .withColumn('content_duration', col('content_duration').cast(FloatType()))\\\n",
    "            .withColumn('course_id', col('course_id').cast(IntegerType()))\\\n",
    "            .withColumn('course_title', col('course_title').cast(StringType()))\\\n",
    "            .withColumn('is_paid', col('is_paid').cast(BooleanType()))\\\n",
    "            .withColumn('level', col('level').cast(StringType()))\\\n",
    "            .withColumn('num_lectures', col('num_lectures').cast(IntegerType()))\\\n",
    "            .withColumn('num_reviews', col('num_reviews').cast(IntegerType()))\\\n",
    "            .withColumn('num_subscribers', col('num_subscribers').cast(IntegerType()))\\\n",
    "            .withColumn('price', col('price').cast(IntegerType()))\\\n",
    "            .withColumn('published_timestamp', col('published_timestamp').cast(TimestampType()))\\\n",
    "            .withColumn('subject', col('subject').cast(StringType()))\\\n",
    "            .withColumn('url', col('url').cast(StringType()))\n",
    "\n",
    "\n",
    "udemy_df.printSchema()"
   ]
  },
  {
   "cell_type": "code",
   "execution_count": 9,
   "id": "33248f36",
   "metadata": {},
   "outputs": [],
   "source": [
    "# udemy_df.show()"
   ]
  },
  {
   "cell_type": "code",
   "execution_count": 10,
   "id": "91d368d3",
   "metadata": {},
   "outputs": [
    {
     "name": "stdout",
     "output_type": "stream",
     "text": [
      "root\n",
      " |-- course_id: integer (nullable = true)\n",
      " |-- course_title: string (nullable = true)\n",
      " |-- url: string (nullable = true)\n",
      " |-- is_paid: boolean (nullable = true)\n",
      " |-- price: integer (nullable = true)\n",
      " |-- num_subscribers: integer (nullable = true)\n",
      " |-- num_reviews: integer (nullable = true)\n",
      " |-- num_lectures: integer (nullable = true)\n",
      " |-- subject: string (nullable = true)\n",
      " |-- level: string (nullable = true)\n",
      " |-- content_duration: float (nullable = true)\n",
      " |-- subject: string (nullable = true)\n",
      "\n"
     ]
    }
   ],
   "source": [
    "# create a separate dataframe for course (since most of the questions are related to course only)\n",
    "\n",
    "course_df=udemy_df.select([\"course_id\",\"course_title\",\"url\",\"is_paid\", \"price\", \"num_subscribers\",\"num_reviews\",\n",
    "                           \"num_lectures\", \"subject\",\"level\",\"content_duration\", \"subject\"\n",
    "                         ])\n",
    "\n",
    "course_df.printSchema()\n",
    "course_df = course_df.drop_duplicates()\n",
    "# course_df.show()"
   ]
  },
  {
   "cell_type": "code",
   "execution_count": 11,
   "id": "0dd9aab6",
   "metadata": {},
   "outputs": [],
   "source": [
    "#create SQL table from dataframe\n",
    "\n",
    "udemy_df.createOrReplaceTempView(\"udemy_table\")\n",
    "course_df.createOrReplaceTempView(\"course_table\")"
   ]
  },
  {
   "cell_type": "markdown",
   "id": "5e972b90",
   "metadata": {},
   "source": [
    "# Questions and Solutions"
   ]
  },
  {
   "cell_type": "markdown",
   "id": "e89d30f6",
   "metadata": {},
   "source": [
    "###   1. What are the best free courses by subject?"
   ]
  },
  {
   "cell_type": "code",
   "execution_count": 13,
   "id": "1d627321",
   "metadata": {},
   "outputs": [],
   "source": [
    "#assumption: best course = course having maximum reviews\n",
    "\n",
    "free_courses_df= course_df.filter(course_df.is_paid == \"False\")\n",
    "\n",
    "# free_courses_df.show()\n",
    "# free_courses_df.printSchema()"
   ]
  },
  {
   "cell_type": "code",
   "execution_count": 17,
   "id": "cf149a5c",
   "metadata": {},
   "outputs": [
    {
     "name": "stdout",
     "output_type": "stream",
     "text": [
      "+-------------------+--------------------+-----------------+\n",
      "|            subject|   Best Free Courses|Number of Reviews|\n",
      "+-------------------+--------------------+-----------------+\n",
      "|   Business Finance|[Accounting in 60...|             4397|\n",
      "|   Business Finance|[Accounting in 60...|             2698|\n",
      "|   Business Finance|[Accounting in 60...|             1463|\n",
      "|     Graphic Design|[Graphic Design -...|             2215|\n",
      "|     Graphic Design|[Graphic Design -...|             1779|\n",
      "|     Graphic Design|[Graphic Design -...|             1563|\n",
      "|Musical Instruments|[Getting Started ...|             1141|\n",
      "|Musical Instruments|[Getting Started ...|             1042|\n",
      "|Musical Instruments|[Getting Started ...|              772|\n",
      "|    Web Development|[Learn HTML5 Prog...|             8629|\n",
      "|    Web Development|[Learn HTML5 Prog...|             6512|\n",
      "|    Web Development|[Learn HTML5 Prog...|             5924|\n",
      "+-------------------+--------------------+-----------------+\n",
      "\n"
     ]
    }
   ],
   "source": [
    "from pyspark.sql.functions import rank, max, desc, collect_list\n",
    "from pyspark.sql import Window as W \n",
    "\n",
    "\n",
    "best_free_courses_df = free_courses_df\\\n",
    "                    .groupBy('subject', 'course_title')\\\n",
    "                    .agg(max('num_reviews').alias('Number of Reviews'))\\\n",
    "                    .orderBy(desc('Number of Reviews'))\n",
    "\n",
    "\n",
    "#creating partition by subject in descending order of num_reviews\n",
    "window_spec = W.partitionBy('subject')\\\n",
    "                .orderBy(desc(col('Number of Reviews')))\n",
    "\n",
    "#get courses with top 3 rank in each partition\n",
    "top_3_best_courses = best_free_courses_df\\\n",
    "                            .withColumn('rn', rank().over(window_spec))\\\n",
    "                            .where('rn <= 3')\\\n",
    "                            .drop('rn')\n",
    "\n",
    "# subjects and their three best courses along with Number of Reviews\n",
    "top_3_best_courses\\\n",
    "    .withColumn('Best Free Courses', collect_list('course_title').over(W.partitionBy('subject')))\\\n",
    "    .select('subject', 'Best Free Courses', 'Number of Reviews')\\\n",
    "    .distinct()\\\n",
    "    .dropna()\\\n",
    "    .show()"
   ]
  },
  {
   "cell_type": "markdown",
   "id": "024b94d8",
   "metadata": {},
   "source": [
    "###     2. What are the most popular courses?"
   ]
  },
  {
   "cell_type": "code",
   "execution_count": 18,
   "id": "33ca352e",
   "metadata": {},
   "outputs": [
    {
     "name": "stdout",
     "output_type": "stream",
     "text": [
      "+--------------------+---------------------+\n",
      "|       Course_Titles|Number_of_Subscribers|\n",
      "+--------------------+---------------------+\n",
      "|Learn HTML5 Progr...|               268923|\n",
      "|Coding for Entrep...|               161029|\n",
      "|The Web Developer...|               121584|\n",
      "|Build Your First ...|               120291|\n",
      "|The Complete Web ...|               114512|\n",
      "|Free Beginner Ele...|               101154|\n",
      "|Web Design for We...|                98867|\n",
      "|Learn Javascript ...|                84897|\n",
      "|Practical PHP: Ma...|                83737|\n",
      "|JavaScript: Under...|                79612|\n",
      "+--------------------+---------------------+\n",
      "\n"
     ]
    }
   ],
   "source": [
    "#assumption: num_subscribers indicates popularity\n",
    "\n",
    "\n",
    "#sql way\n",
    "# getting top 10 most popular courses\n",
    "\n",
    "popular_courses = spark.sql(\"\"\"\n",
    "                            SELECT course_title AS Course_Titles, num_subscribers AS Number_of_Subscribers\n",
    "                            FROM course_table\n",
    "                            ORDER BY 2 DESC\n",
    "                            LIMIT 10                            \n",
    "                            \"\"\")\n",
    "\n",
    "popular_courses.show()"
   ]
  },
  {
   "cell_type": "code",
   "execution_count": 19,
   "id": "5027d10a",
   "metadata": {},
   "outputs": [
    {
     "name": "stdout",
     "output_type": "stream",
     "text": [
      "+--------------------+---------------------+\n",
      "|       Course_Titles|Number_of_Subscribers|\n",
      "+--------------------+---------------------+\n",
      "|Learn HTML5 Progr...|               268923|\n",
      "|Coding for Entrep...|               161029|\n",
      "|The Web Developer...|               121584|\n",
      "|Build Your First ...|               120291|\n",
      "|The Complete Web ...|               114512|\n",
      "|Free Beginner Ele...|               101154|\n",
      "|Web Design for We...|                98867|\n",
      "|Learn Javascript ...|                84897|\n",
      "|Practical PHP: Ma...|                83737|\n",
      "|JavaScript: Under...|                79612|\n",
      "+--------------------+---------------------+\n",
      "only showing top 10 rows\n",
      "\n"
     ]
    }
   ],
   "source": [
    "#dfway\n",
    "\n",
    "from pyspark.sql.functions import desc\n",
    "\n",
    "popular_courses_df = course_df.select(col('course_title').alias(\"Course_Titles\"),\\\n",
    "                                      col('num_subscribers').alias(\"Number_of_Subscribers\"))\\\n",
    "                                      .orderBy(desc(col(\"num_subscribers\")))\n",
    "\n",
    "popular_courses_df.show(10)"
   ]
  },
  {
   "cell_type": "markdown",
   "id": "9401aa7b",
   "metadata": {},
   "source": [
    "###   3. List the courses that are specialized to “Business Finance” and find the average number of subscribers, reviews, price and lectures on the subject."
   ]
  },
  {
   "cell_type": "code",
   "execution_count": 20,
   "id": "dad972b2",
   "metadata": {},
   "outputs": [],
   "source": [
    "#sql way\n",
    "\n",
    "#1. create a df business_finance_courses consisting of courses that are specialized to “Business Finance”\n",
    "\n",
    "business_finance_courses = spark.sql(\"\"\"\n",
    "                                        SELECT * FROM course_table\n",
    "                                        WHERE subject == \"Business Finance\"                         \n",
    "                                    \"\"\")\n",
    "\n",
    "# business_finance_courses.show()"
   ]
  },
  {
   "cell_type": "code",
   "execution_count": 21,
   "id": "371b71ff",
   "metadata": {},
   "outputs": [
    {
     "name": "stdout",
     "output_type": "stream",
     "text": [
      "+-----------------+-------------------+------------------+----------------+\n",
      "| Average Lectures|Average Subscribers|   Average Reviews|   Average Price|\n",
      "+-----------------+-------------------+------------------+----------------+\n",
      "|32.46263643996642| 1569.0268681780017|63.729638958858104|68.6943744752309|\n",
      "+-----------------+-------------------+------------------+----------------+\n",
      "\n"
     ]
    }
   ],
   "source": [
    "#2. calculate average no. of subscribers, reviews, price, and lectures on subject “Business Finance”\n",
    "#using business_finance_courses df\n",
    "\n",
    "business_finance_courses.createOrReplaceTempView(\"business_finance_courses_table\")\n",
    "\n",
    "average_data = spark.sql(\"\"\"\n",
    "                            SELECT \n",
    "                                avg(num_lectures) `Average Lectures`,\n",
    "                                avg(num_subscribers) `Average Subscribers`,\n",
    "                                avg(num_reviews) `Average Reviews`,\n",
    "                                avg(price) `Average Price`                                \n",
    "                            FROM business_finance_courses_table\n",
    "                        \"\"\")\n",
    "\n",
    "average_data.show()"
   ]
  },
  {
   "cell_type": "code",
   "execution_count": 22,
   "id": "14513f38",
   "metadata": {},
   "outputs": [
    {
     "name": "stdout",
     "output_type": "stream",
     "text": [
      "+---------+--------------------+--------------------+-------+-----+---------------+-----------+------------+----------------+--------------+----------------+----------------+\n",
      "|course_id|        course_title|                 url|is_paid|price|num_subscribers|num_reviews|num_lectures|         subject|         level|content_duration|         subject|\n",
      "+---------+--------------------+--------------------+-------+-----+---------------+-----------+------------+----------------+--------------+----------------+----------------+\n",
      "|    24877|Introductory Fina...|https://www.udemy...|   true|   80|           1793|        265|          54|Business Finance|Beginner Level|            10.0|Business Finance|\n",
      "|   332690|Introduction to T...|https://www.udemy...|   true|   20|             45|          4|           6|Business Finance|Beginner Level|             1.0|Business Finance|\n",
      "|   521342|Succeed in Forex ...|https://www.udemy...|   true|  200|           1806|         38|         211|Business Finance|Beginner Level|            19.5|Business Finance|\n",
      "|   486240|2 Easy Steps To I...|https://www.udemy...|   true|   20|            828|          1|          20|Business Finance|    All Levels|             1.0|Business Finance|\n",
      "|   229360|Level 1 2014 CFA®...|https://www.udemy...|   true|   40|            204|          1|          18|Business Finance|    All Levels|             3.0|Business Finance|\n",
      "+---------+--------------------+--------------------+-------+-----+---------------+-----------+------------+----------------+--------------+----------------+----------------+\n",
      "only showing top 5 rows\n",
      "\n"
     ]
    }
   ],
   "source": [
    "#dfway\n",
    "\n",
    "#1. create dataframe business_finance_df containing info of only those courses that are in \"Business Finance\" subject\n",
    "business_finance_df = course_df.filter(col('subject')=='Business Finance')\n",
    "business_finance_df.show(5)"
   ]
  },
  {
   "cell_type": "code",
   "execution_count": 23,
   "id": "b79a755f",
   "metadata": {},
   "outputs": [
    {
     "name": "stdout",
     "output_type": "stream",
     "text": [
      "+--------------------+----------------+\n",
      "|        course_title|         subject|\n",
      "+--------------------+----------------+\n",
      "|Introductory Fina...|Business Finance|\n",
      "|Introduction to T...|Business Finance|\n",
      "|Succeed in Forex ...|Business Finance|\n",
      "|2 Easy Steps To I...|Business Finance|\n",
      "|Level 1 2014 CFA®...|Business Finance|\n",
      "|The Complete Fore...|Business Finance|\n",
      "|Beginner to Pro -...|Business Finance|\n",
      "|Winning Forex Tra...|Business Finance|\n",
      "|What You Should K...|Business Finance|\n",
      "|Forex Trading - L...|Business Finance|\n",
      "+--------------------+----------------+\n",
      "only showing top 10 rows\n",
      "\n"
     ]
    }
   ],
   "source": [
    "#2. get list of courses in the subject \"Business Finance\"\n",
    "\n",
    "courses_business_finance = business_finance_df.select('course_title', 'subject')\n",
    "courses_business_finance.show(10)"
   ]
  },
  {
   "cell_type": "code",
   "execution_count": 24,
   "id": "ddb98558",
   "metadata": {},
   "outputs": [
    {
     "name": "stdout",
     "output_type": "stream",
     "text": [
      "+----------------+--------------------+------------------+-----------------+\n",
      "|      avg(price)|avg(num_subscribers)|  avg(num_reviews)|avg(num_lectures)|\n",
      "+----------------+--------------------+------------------+-----------------+\n",
      "|68.6943744752309|  1569.0268681780017|63.729638958858104|32.46263643996642|\n",
      "+----------------+--------------------+------------------+-----------------+\n",
      "\n"
     ]
    }
   ],
   "source": [
    "#3. calculating average values for the subject\n",
    "\n",
    "business_finance_df.agg({'num_lectures': 'mean', 'num_subscribers' : 'mean', 'num_reviews': 'mean',\\\n",
    "                         'price': 'mean'}).show()"
   ]
  },
  {
   "cell_type": "markdown",
   "id": "7f3a18f0",
   "metadata": {},
   "source": [
    "###   4. How are courses related?"
   ]
  },
  {
   "cell_type": "code",
   "execution_count": 53,
   "id": "2f4abf0b",
   "metadata": {},
   "outputs": [
    {
     "name": "stdout",
     "output_type": "stream",
     "text": [
      "+----------------+--------------------+\n",
      "|         subject|        course_title|\n",
      "+----------------+--------------------+\n",
      "|            null|                null|\n",
      "|Business Finance|Stock Options Tra...|\n",
      "|Business Finance|MBA Accounting an...|\n",
      "|Business Finance|Value Investing, ...|\n",
      "|Business Finance|How to Get Growin...|\n",
      "|Business Finance|Introductory Fina...|\n",
      "|Business Finance|How to Start Inve...|\n",
      "|Business Finance|Introduction to T...|\n",
      "|Business Finance|How To Invest Wit...|\n",
      "|Business Finance|2 Easy Steps To I...|\n",
      "|Business Finance|Aprende a inverti...|\n",
      "|Business Finance|The Complete Fore...|\n",
      "|Business Finance|SEASON 2 MQL4 Tut...|\n",
      "|Business Finance|Winning Forex Tra...|\n",
      "|Business Finance|CFA Level I Works...|\n",
      "|Business Finance|Forex Trading - L...|\n",
      "|Business Finance|Succeed in Forex ...|\n",
      "|Business Finance|Aprende a inverti...|\n",
      "|Business Finance|Beginner to Pro -...|\n",
      "|Business Finance|Mutual Funds for ...|\n",
      "+----------------+--------------------+\n",
      "only showing top 20 rows\n",
      "\n"
     ]
    }
   ],
   "source": [
    "#grouping titles by subject\n",
    "\n",
    "#sqlway\n",
    "titles_subjects = spark.sql(\"\"\"\n",
    "                                SELECT subject, course_title \n",
    "                                FROM course_table\n",
    "                                ORDER BY subject\n",
    "                            \"\"\")\n",
    "\n",
    "titles_subjects.show()"
   ]
  },
  {
   "cell_type": "code",
   "execution_count": 52,
   "id": "3ba71f2b",
   "metadata": {},
   "outputs": [
    {
     "name": "stdout",
     "output_type": "stream",
     "text": [
      "+----------------+--------------------+\n",
      "|         subject|        course_title|\n",
      "+----------------+--------------------+\n",
      "|Business Finance|Improve Your Fina...|\n",
      "|Business Finance|Take Control By L...|\n",
      "|Business Finance|The Complete Guid...|\n",
      "|Business Finance|Black Scholes Opt...|\n",
      "|Business Finance|Succeed in Lotto ...|\n",
      "|Business Finance|Learn to Trade Fo...|\n",
      "|Business Finance|   Business finances|\n",
      "|Business Finance|Accounting - The ...|\n",
      "|Business Finance|      TRADING TRUTHS|\n",
      "|Business Finance|Curso de Day Trad...|\n",
      "|Business Finance|Forex Trading Sys...|\n",
      "|Business Finance|Volatility Tradin...|\n",
      "|Business Finance|Trading Forex  - ...|\n",
      "|Business Finance|Bitcoin or How I ...|\n",
      "|Business Finance|The Power Modelin...|\n",
      "|Business Finance|Naked Put Options...|\n",
      "|Business Finance|* An Integrated A...|\n",
      "|Business Finance|Free Options 101 ...|\n",
      "|Business Finance|Finance - Ratios ...|\n",
      "|Business Finance|الدروس التعليمية ...|\n",
      "+----------------+--------------------+\n",
      "only showing top 20 rows\n",
      "\n"
     ]
    }
   ],
   "source": [
    "#dfway\n",
    "\n",
    "titles_subjects_df = course_df.select(col('subject'), col('course_title'))\\\n",
    "                              .dropna()\\\n",
    "                              .distinct()\\\n",
    "                              .orderBy(col('subject'))\\\n",
    "                              .show()"
   ]
  },
  {
   "cell_type": "code",
   "execution_count": 75,
   "id": "a5912881",
   "metadata": {},
   "outputs": [
    {
     "name": "stdout",
     "output_type": "stream",
     "text": [
      "+-------------------+--------------------+\n",
      "|            subject|         Course List|\n",
      "+-------------------+--------------------+\n",
      "|   Business Finance|[Learn to Trade F...|\n",
      "|     Graphic Design|[Sketch 3 - New G...|\n",
      "|Musical Instruments|[Quick Piano Less...|\n",
      "|    Web Development|[First Web Applic...|\n",
      "+-------------------+--------------------+\n",
      "\n"
     ]
    }
   ],
   "source": [
    "#dfway 2\n",
    "\n",
    "from pyspark.sql.functions import collect_set\n",
    "\n",
    "window_spec = W.partitionBy('subject')\n",
    "course_relation_df = course_df\\\n",
    "                .withColumn('Course List', collect_set('course_title').over(window_spec))\\\n",
    "                .select('subject', 'Course List')\\\n",
    "                .distinct().dropna()\n",
    "\n",
    "course_relation_df.show()"
   ]
  },
  {
   "cell_type": "markdown",
   "id": "89f8f62c",
   "metadata": {},
   "source": [
    "###  5. Which courses offer the best cost benefit?"
   ]
  },
  {
   "cell_type": "code",
   "execution_count": 50,
   "id": "1653b875",
   "metadata": {},
   "outputs": [],
   "source": [
    "import pyspark.sql.functions as f"
   ]
  },
  {
   "cell_type": "code",
   "execution_count": 51,
   "id": "85b4bfdf",
   "metadata": {},
   "outputs": [
    {
     "name": "stdout",
     "output_type": "stream",
     "text": [
      "+---------+--------------------+--------------------+-------+-----+---------------+-----------+------------+-------------------+--------------+----------------+-------------------+\n",
      "|course_id|        course_title|                 url|is_paid|price|num_subscribers|num_reviews|num_lectures|            subject|         level|content_duration|            subject|\n",
      "+---------+--------------------+--------------------+-------+-----+---------------+-----------+------------+-------------------+--------------+----------------+-------------------+\n",
      "|   473160|Web Design for We...|https://www.udemy...|  false|    0|          98867|       6512|          20|    Web Development|    All Levels|             3.0|    Web Development|\n",
      "|   756150|Angular 4 (former...|https://www.udemy...|   true|  190|          73783|      19649|         329|    Web Development|    All Levels|            22.0|    Web Development|\n",
      "|   461160|Learn and Underst...|https://www.udemy...|   true|  195|          58208|      11123|          98|    Web Development|    All Levels|            13.0|    Web Development|\n",
      "|   289230|Learn and Underst...|https://www.udemy...|   true|  175|          59361|      11580|          55|    Web Development|    All Levels|             7.0|    Web Development|\n",
      "|   625204|The Web Developer...|https://www.udemy...|   true|  200|         121584|      27445|         342|    Web Development|    All Levels|            43.0|    Web Development|\n",
      "|   173548|Build Your First ...|https://www.udemy...|  false|    0|         120291|       5924|          30|    Web Development|Beginner Level|             3.0|    Web Development|\n",
      "|   364426|JavaScript: Under...|https://www.udemy...|   true|  175|          79612|      16976|          85|    Web Development|    All Levels|            11.5|    Web Development|\n",
      "|   764164|The Complete Web ...|https://www.udemy...|   true|  200|         114512|      22412|         304|    Web Development|    All Levels|            30.5|    Web Development|\n",
      "|    41295|Learn HTML5 Progr...|https://www.udemy...|  false|    0|         268923|       8629|          45|    Web Development|    All Levels|            10.5|    Web Development|\n",
      "|   405926|HTML and CSS for ...|https://www.udemy...|  false|    0|          70773|       5660|          50|    Web Development|    All Levels|             6.0|    Web Development|\n",
      "|   705264|Modern React with...|https://www.udemy...|   true|  180|          50815|      15117|         150|    Web Development|    All Levels|            26.5|    Web Development|\n",
      "|   238934|Pianoforall - Inc...|https://www.udemy...|   true|  200|          75499|       7676|         362|Musical Instruments|    All Levels|            30.0|Musical Instruments|\n",
      "+---------+--------------------+--------------------+-------+-----+---------------+-----------+------------+-------------------+--------------+----------------+-------------------+\n",
      "\n"
     ]
    }
   ],
   "source": [
    "#Assumption 1: course having price less than 100, reviews more than 5000, and subscribers more than 50000 \n",
    "#offer the best cost benefit\n",
    "\n",
    "best_cost_benefit_courses=course_df.filter(f.col(\"num_subscribers\")>50000)\\\n",
    "                                   .filter(f.col(\"num_reviews\")>5000)\\\n",
    "                                   .filter(f.col(\"price\")<500)\n",
    "\n",
    "best_cost_benefit_courses.show()"
   ]
  },
  {
   "cell_type": "code",
   "execution_count": null,
   "id": "9284216c",
   "metadata": {},
   "outputs": [],
   "source": [
    "#Assumption 2: longest yet cheapest course = best cost benefit \n",
    "# find courses having longest content_duration with lowest price"
   ]
  },
  {
   "cell_type": "code",
   "execution_count": 69,
   "id": "41daa0d2",
   "metadata": {},
   "outputs": [
    {
     "name": "stdout",
     "output_type": "stream",
     "text": [
      "+--------------------+----------------+-----+\n",
      "|        course_title|content_duration|price|\n",
      "+--------------------+----------------+-----+\n",
      "|The Complete Figu...|            78.5|   50|\n",
      "|The Complete Web ...|            76.5|  200|\n",
      "|Financial Managem...|            71.5|  190|\n",
      "|TRADER BOT: Intro...|            70.0|   20|\n",
      "|Anatomy for Figur...|            68.5|   95|\n",
      "|Modern E-Commerce...|            66.5|   50|\n",
      "|Discover How to D...|            62.0|   65|\n",
      "|Advanced Accounti...|            62.0|  150|\n",
      "|Become a Professi...|            60.0|  200|\n",
      "|Code & Grow Rich:...|            57.0|  200|\n",
      "+--------------------+----------------+-----+\n",
      "only showing top 10 rows\n",
      "\n"
     ]
    }
   ],
   "source": [
    "#sqlway\n",
    "\n",
    "more_duration_less_price_courses = spark.sql(\"\"\"\n",
    "                                                select course_title, content_duration, price from course_table\n",
    "                                                order by content_duration desc, price asc                                            \n",
    "                                            \"\"\")\n",
    "\n",
    "more_duration_less_price_courses.show(10)"
   ]
  },
  {
   "cell_type": "code",
   "execution_count": 70,
   "id": "c18f122d",
   "metadata": {},
   "outputs": [
    {
     "name": "stdout",
     "output_type": "stream",
     "text": [
      "+--------------------+----------------+-----+\n",
      "|        course_title|content_duration|price|\n",
      "+--------------------+----------------+-----+\n",
      "|The Complete Figu...|            78.5|   50|\n",
      "|The Complete Web ...|            76.5|  200|\n",
      "|Financial Managem...|            71.5|  190|\n",
      "|TRADER BOT: Intro...|            70.0|   20|\n",
      "|Anatomy for Figur...|            68.5|   95|\n",
      "|Modern E-Commerce...|            66.5|   50|\n",
      "|Discover How to D...|            62.0|   65|\n",
      "|Advanced Accounti...|            62.0|  150|\n",
      "|Become a Professi...|            60.0|  200|\n",
      "|Code & Grow Rich:...|            57.0|  200|\n",
      "|The Complete Web ...|            51.0|  195|\n",
      "|Become a Kick-Ass...|            48.5|  200|\n",
      "|Financial Risk Ma...|            47.0|   50|\n",
      "|Learn to Trade Th...|            46.5|  200|\n",
      "|Cost Accounting a...|            45.0|  150|\n",
      "|Coding for Entrep...|            45.0|  195|\n",
      "|CSSCasts; CSS lib...|            44.5|  200|\n",
      "|Back to School We...|            44.5|  200|\n",
      "|MCA Accountancy a...|            43.5|  180|\n",
      "|The Web Developer...|            43.0|  200|\n",
      "+--------------------+----------------+-----+\n",
      "only showing top 20 rows\n",
      "\n"
     ]
    }
   ],
   "source": [
    "#dfway\n",
    "from pyspark.sql.functions import asc\n",
    "\n",
    "course_df.orderBy(desc('content_duration'), asc('price')).select('course_title', 'content_duration', 'price')\\\n",
    "         .show()"
   ]
  },
  {
   "cell_type": "markdown",
   "id": "7a41fc50",
   "metadata": {},
   "source": [
    "###     6. Find the courses which have more than 15 lectures."
   ]
  },
  {
   "cell_type": "code",
   "execution_count": 49,
   "id": "4fab30d8",
   "metadata": {},
   "outputs": [
    {
     "name": "stdout",
     "output_type": "stream",
     "text": [
      "+--------------------+------------------+\n",
      "|              Course|Number of Lectures|\n",
      "+--------------------+------------------+\n",
      "|Whiteboard Animat...|                16|\n",
      "|Coding Made Easy:...|                16|\n",
      "|Technical Analysi...|                16|\n",
      "|JavaScript Tricks...|                16|\n",
      "|Blues Guitar Less...|                16|\n",
      "|Forex Trading - L...|                16|\n",
      "|Accounting in 60 ...|                16|\n",
      "|Expert Guide : Ma...|                16|\n",
      "|Simple Options Tr...|                16|\n",
      "|CREDIT SPREAD SUR...|                16|\n",
      "+--------------------+------------------+\n",
      "only showing top 10 rows\n",
      "\n"
     ]
    }
   ],
   "source": [
    "#sqlway\n",
    "\n",
    "courses_morethan15 = spark.sql(\"\"\"\n",
    "                                SELECT course_title Course, num_lectures `Number of Lectures`\n",
    "                                FROM course_table\n",
    "                                WHERE num_lectures > 15\n",
    "                                ORDER BY num_lectures\n",
    "                            \"\"\")\n",
    "\n",
    "courses_morethan15.count()\n",
    "courses_morethan15.show(10)"
   ]
  },
  {
   "cell_type": "code",
   "execution_count": 48,
   "id": "1a0ffefa",
   "metadata": {},
   "outputs": [
    {
     "name": "stdout",
     "output_type": "stream",
     "text": [
      "+--------------------+------------------+\n",
      "|              Course|Number of Lectures|\n",
      "+--------------------+------------------+\n",
      "|Whiteboard Animat...|                16|\n",
      "|Coding Made Easy:...|                16|\n",
      "|Technical Analysi...|                16|\n",
      "|JavaScript Tricks...|                16|\n",
      "|Blues Guitar Less...|                16|\n",
      "|Forex Trading - L...|                16|\n",
      "|Accounting in 60 ...|                16|\n",
      "|Expert Guide : Ma...|                16|\n",
      "|Simple Options Tr...|                16|\n",
      "|CREDIT SPREAD SUR...|                16|\n",
      "+--------------------+------------------+\n",
      "only showing top 10 rows\n",
      "\n"
     ]
    }
   ],
   "source": [
    "#dfway\n",
    "\n",
    "course_df.filter(col('num_lectures') > 15).select(col('course_title').alias('Course'),\\\n",
    "                                                  col('num_lectures').alias('Number of Lectures'))\\\n",
    "         .orderBy(col('num_lectures'))\\\n",
    "         .show(10)"
   ]
  },
  {
   "cell_type": "markdown",
   "id": "c107ffe5",
   "metadata": {},
   "source": [
    "###     7. List courses on the basis of level."
   ]
  },
  {
   "cell_type": "code",
   "execution_count": 77,
   "id": "5d43d18c",
   "metadata": {},
   "outputs": [
    {
     "name": "stdout",
     "output_type": "stream",
     "text": [
      "+------------------+--------------------+\n",
      "|             level|         Course List|\n",
      "+------------------+--------------------+\n",
      "|        All Levels|[Quick Piano Less...|\n",
      "|    Beginner Level|[First Web Applic...|\n",
      "|      Expert Level|[Trading Robot Fo...|\n",
      "|Intermediate Level|[JavaScript For A...|\n",
      "+------------------+--------------------+\n",
      "\n"
     ]
    }
   ],
   "source": [
    "#dfway\n",
    "\n",
    "from pyspark.sql.functions import collect_set\n",
    "\n",
    "window_spec = W.partitionBy('level')\n",
    "course_list_df = course_df\\\n",
    "                .withColumn('Course List', collect_set('course_title').over(window_spec))\\\n",
    "                .select('level', 'Course List')\\\n",
    "                .distinct().dropna()\n",
    "\n",
    "course_list_df.show()"
   ]
  },
  {
   "cell_type": "markdown",
   "id": "c7e398f3",
   "metadata": {},
   "source": [
    "###     8. Find the courses which have duration greater than 2 hours."
   ]
  },
  {
   "cell_type": "code",
   "execution_count": 46,
   "id": "e5e7c207",
   "metadata": {},
   "outputs": [
    {
     "name": "stdout",
     "output_type": "stream",
     "text": [
      "+---------+--------------------+---------------+\n",
      "|course_id|        course_title|Duration(Hours)|\n",
      "+---------+--------------------+---------------+\n",
      "|    17349|Figure Drawing Fr...|            2.5|\n",
      "|    19422|Drupal 7 for Begi...|            2.5|\n",
      "|    20387|Guitar Insanity W...|            2.5|\n",
      "|    20461|How to Design a L...|            2.5|\n",
      "|    26956|Learn Guitar in 2...|            2.5|\n",
      "|    42197|Options Spreads B...|            2.5|\n",
      "|    50528|The Complete Word...|            2.5|\n",
      "|    53157|Beginning Flute L...|            2.5|\n",
      "|    59535|  HTML for Beginners|            2.5|\n",
      "|    71912|Have Fun with Beg...|            2.5|\n",
      "|    98140|Introduction to B...|            2.5|\n",
      "|    99826|Become A Web Deve...|            2.5|\n",
      "|   100916|Blues Guitar Less...|            2.5|\n",
      "|   101498|Blues Guitar Less...|            2.5|\n",
      "|   101864|Programming for E...|            2.5|\n",
      "|   109622|Finance - Ratios ...|            2.5|\n",
      "|   128950|Learn to Build We...|            2.5|\n",
      "|   131562|    Piano With A Pro|            2.5|\n",
      "|   138004|Accounting Concep...|            2.5|\n",
      "|   138560|Credit Repair fro...|            2.5|\n",
      "+---------+--------------------+---------------+\n",
      "only showing top 20 rows\n",
      "\n"
     ]
    }
   ],
   "source": [
    "#sqlway\n",
    "\n",
    "courses_duration = spark.sql(\"\"\"\n",
    "                                SELECT course_id, course_title, content_duration `Duration(Hours)`\n",
    "                                FROM course_table\n",
    "                                WHERE content_duration > 2.0\n",
    "                                ORDER BY 3,1\n",
    "                            \"\"\")\n",
    "\n",
    "courses_duration.show()"
   ]
  },
  {
   "cell_type": "code",
   "execution_count": 47,
   "id": "a0c7299c",
   "metadata": {},
   "outputs": [
    {
     "name": "stdout",
     "output_type": "stream",
     "text": [
      "+---------+--------------------+----------------+\n",
      "|course_id|        course_title|content_duration|\n",
      "+---------+--------------------+----------------+\n",
      "|    59535|  HTML for Beginners|             2.5|\n",
      "|  1266468|Indesign - Para q...|             2.5|\n",
      "|  1095488|Adobe photoshop T...|             2.5|\n",
      "|  1075366|Adobe InDesign CC...|             2.5|\n",
      "|   922600|CSS Web Developme...|             2.5|\n",
      "|   422546|Piano - Circle of...|             2.5|\n",
      "|   826912|Six Stage Negotia...|             2.5|\n",
      "|   521952|Ultimate Guide To...|             2.5|\n",
      "|   131562|    Piano With A Pro|             2.5|\n",
      "|  1140532|Explore JavaScrip...|             2.5|\n",
      "|   774910|WordPress: Create...|             2.5|\n",
      "|   638040|Adobe Photoshop E...|             2.5|\n",
      "|  1006314|Financial Modelin...|             2.5|\n",
      "|   584522|Voiceover Audio S...|             2.5|\n",
      "|  1258402|Canva Complete Co...|             2.5|\n",
      "|  1193056|Trader sur le For...|             2.5|\n",
      "|   463834|Cost Accounting O...|             2.5|\n",
      "|   690966|Learn Azure Cloud...|             2.5|\n",
      "|  1010988|Economics for beg...|             2.5|\n",
      "|   851288|Smart Trading Tec...|             2.5|\n",
      "+---------+--------------------+----------------+\n",
      "only showing top 20 rows\n",
      "\n"
     ]
    }
   ],
   "source": [
    "#dfway\n",
    "\n",
    "course_df.filter(col('content_duration') > 2.0).select('course_id', 'course_title', 'content_duration')\\\n",
    "         .distinct().orderBy(col('content_duration')).show()"
   ]
  }
 ],
 "metadata": {
  "kernelspec": {
   "display_name": "Python 3 (ipykernel)",
   "language": "python",
   "name": "python3"
  },
  "language_info": {
   "codemirror_mode": {
    "name": "ipython",
    "version": 3
   },
   "file_extension": ".py",
   "mimetype": "text/x-python",
   "name": "python",
   "nbconvert_exporter": "python",
   "pygments_lexer": "ipython3",
   "version": "3.10.6"
  }
 },
 "nbformat": 4,
 "nbformat_minor": 5
}
