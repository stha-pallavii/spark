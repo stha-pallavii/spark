{
 "cells": [
  {
   "cell_type": "markdown",
   "id": "57997e1e",
   "metadata": {},
   "source": [
    "#### data: walmart_ecommerce_product_details.json\n",
    "#### questions: walmart questions.docx\n",
    "#### notebook file: walmart_task_solutions.ipynb\n",
    "#### python file: walmart_task_solutions.py"
   ]
  },
  {
   "cell_type": "markdown",
   "id": "47c94e30",
   "metadata": {},
   "source": [
    "At first, create a spark application, read the json file into a dataframe, and explore the data"
   ]
  },
  {
   "cell_type": "code",
   "execution_count": 1,
   "id": "bfd8035c",
   "metadata": {},
   "outputs": [],
   "source": [
    "from pyspark.sql import SparkSession"
   ]
  },
  {
   "cell_type": "code",
   "execution_count": 2,
   "id": "a91b48d2",
   "metadata": {},
   "outputs": [
    {
     "name": "stdout",
     "output_type": "stream",
     "text": [
      "22/10/20 14:27:02 WARN Utils: Your hostname, pallavi-xps resolves to a loopback address: 127.0.1.1; using 192.168.1.79 instead (on interface wlp2s0)\n",
      "22/10/20 14:27:02 WARN Utils: Set SPARK_LOCAL_IP if you need to bind to another address\n"
     ]
    },
    {
     "name": "stderr",
     "output_type": "stream",
     "text": [
      "Setting default log level to \"WARN\".\n",
      "To adjust logging level use sc.setLogLevel(newLevel). For SparkR, use setLogLevel(newLevel).\n"
     ]
    },
    {
     "name": "stdout",
     "output_type": "stream",
     "text": [
      "22/10/20 14:27:02 WARN NativeCodeLoader: Unable to load native-hadoop library for your platform... using builtin-java classes where applicable\n",
      "22/10/20 14:27:03 WARN Utils: Service 'SparkUI' could not bind on port 4040. Attempting port 4041.\n",
      "22/10/20 14:27:03 WARN Utils: Service 'SparkUI' could not bind on port 4041. Attempting port 4042.\n"
     ]
    }
   ],
   "source": [
    "spark = SparkSession.builder.appName(\"walmart\").getOrCreate()"
   ]
  },
  {
   "cell_type": "code",
   "execution_count": 3,
   "id": "bde9ebec",
   "metadata": {},
   "outputs": [
    {
     "name": "stderr",
     "output_type": "stream",
     "text": [
      "                                                                                \r"
     ]
    }
   ],
   "source": [
    "# read the walmart_ecommerce_product_details.json file into a dataframe df\n",
    "\n",
    "df_walmart = spark.read.json(\"walmart_ecommerce_product_details.json\")"
   ]
  },
  {
   "cell_type": "code",
   "execution_count": 4,
   "id": "ed98ee16",
   "metadata": {},
   "outputs": [],
   "source": [
    "#view the data in the dataframe\n",
    "\n",
    "# df_walmart.show()"
   ]
  },
  {
   "cell_type": "code",
   "execution_count": 5,
   "id": "82867ece",
   "metadata": {},
   "outputs": [],
   "source": [
    "#removing corrupt record column\n",
    "\n",
    "df_walmart = df_walmart.drop('_corrupt_record')"
   ]
  },
  {
   "cell_type": "code",
   "execution_count": 6,
   "id": "2180fff9",
   "metadata": {},
   "outputs": [
    {
     "name": "stdout",
     "output_type": "stream",
     "text": [
      "root\n",
      " |-- Available: string (nullable = true)\n",
      " |-- Brand: string (nullable = true)\n",
      " |-- Category: string (nullable = true)\n",
      " |-- Crawl Timestamp: string (nullable = true)\n",
      " |-- Description: string (nullable = true)\n",
      " |-- Gtin: string (nullable = true)\n",
      " |-- Item Number: string (nullable = true)\n",
      " |-- List Price: string (nullable = true)\n",
      " |-- Package Size: string (nullable = true)\n",
      " |-- Postal Code: string (nullable = true)\n",
      " |-- Product Name: string (nullable = true)\n",
      " |-- Product Url: string (nullable = true)\n",
      " |-- Sale Price: string (nullable = true)\n",
      " |-- Uniq Id: string (nullable = true)\n",
      "\n"
     ]
    }
   ],
   "source": [
    "#view the schema of the dataframe\n",
    "\n",
    "df_walmart.printSchema()"
   ]
  },
  {
   "cell_type": "markdown",
   "id": "3a18d26a",
   "metadata": {},
   "source": [
    "Clean the data: assign appropriate data types of Columns and rename columns to remove spaces"
   ]
  },
  {
   "cell_type": "code",
   "execution_count": 7,
   "id": "51b7a99b",
   "metadata": {},
   "outputs": [],
   "source": [
    "#all columns have data type string. So, we need to convert the datatypes using cast method\n",
    "\n",
    "from pyspark.sql.types import StringType, FloatType, IntegerType, BooleanType, TimestampType\n",
    "from pyspark.sql.functions import col\n",
    "\n",
    "df_walmart = df_walmart\\\n",
    "        .withColumn('Available', col('Available').cast(BooleanType()))\\\n",
    "        .withColumn('Brand', col('Brand').cast(StringType()))\\\n",
    "        .withColumn('Category', col('Category').cast(StringType()))\\\n",
    "        .withColumn('Crawl Timestamp', col('Crawl Timestamp').cast(TimestampType()))\\\n",
    "        .withColumn('Description', col('Description').cast(StringType()))\\\n",
    "        .withColumn('Gtin', col('Gtin').cast(IntegerType()))\\\n",
    "        .withColumn('Item Number', col('Item Number').cast(IntegerType()))\\\n",
    "        .withColumn('List Price', col('List Price').cast(FloatType()))\\\n",
    "        .withColumn('Package Size', col('Package Size').cast(StringType()))\\\n",
    "        .withColumn('Postal Code', col('Postal Code').cast(StringType()))\\\n",
    "        .withColumn('Product Name', col('Product Name').cast(StringType()))\\\n",
    "        .withColumn('Product Url', col('Product Url').cast(StringType()))\\\n",
    "        .withColumn('Sale Price', col('Sale Price').cast(FloatType()))\\\n",
    "        .withColumn('Uniq Id', col('Uniq Id').cast(StringType()))"
   ]
  },
  {
   "cell_type": "code",
   "execution_count": 8,
   "id": "f6b06ec0",
   "metadata": {},
   "outputs": [],
   "source": [
    "#rename columns with spaces in their names\n",
    "\n",
    "df_walmart = df_walmart\\\n",
    "            .withColumnRenamed('Crawl Timestamp', 'Crawl_Timestamp')\\\n",
    "            .withColumnRenamed('Item Number', 'Item_Number')\\\n",
    "            .withColumnRenamed('List Price', 'List_Price')\\\n",
    "            .withColumnRenamed('Package Size', 'Package_Size')\\\n",
    "            .withColumnRenamed('Postal Code', 'Postal_Code')\\\n",
    "            .withColumnRenamed('Product Name', 'Product_Name')\\\n",
    "            .withColumnRenamed('Product Url', 'Product_Url')\\\n",
    "            .withColumnRenamed('Sale Price', 'Sale_Price')\\\n",
    "            .withColumnRenamed('Uniq Id', 'Uniq_Id')"
   ]
  },
  {
   "cell_type": "code",
   "execution_count": 9,
   "id": "53fb8b66",
   "metadata": {},
   "outputs": [
    {
     "name": "stdout",
     "output_type": "stream",
     "text": [
      "root\n",
      " |-- Available: boolean (nullable = true)\n",
      " |-- Brand: string (nullable = true)\n",
      " |-- Category: string (nullable = true)\n",
      " |-- Crawl_Timestamp: timestamp (nullable = true)\n",
      " |-- Description: string (nullable = true)\n",
      " |-- Gtin: integer (nullable = true)\n",
      " |-- Item_Number: integer (nullable = true)\n",
      " |-- List_Price: float (nullable = true)\n",
      " |-- Package_Size: string (nullable = true)\n",
      " |-- Postal_Code: string (nullable = true)\n",
      " |-- Product_Name: string (nullable = true)\n",
      " |-- Product_Url: string (nullable = true)\n",
      " |-- Sale_Price: float (nullable = true)\n",
      " |-- Uniq_Id: string (nullable = true)\n",
      "\n"
     ]
    }
   ],
   "source": [
    "#view the schema \n",
    "\n",
    "df_walmart.printSchema()"
   ]
  },
  {
   "cell_type": "code",
   "execution_count": 10,
   "id": "a983cbb6",
   "metadata": {},
   "outputs": [
    {
     "name": "stdout",
     "output_type": "stream",
     "text": [
      "root\n",
      " |-- Product_Name: string (nullable = true)\n",
      " |-- Category: string (nullable = true)\n",
      " |-- Brand: string (nullable = true)\n",
      " |-- Description: string (nullable = true)\n",
      " |-- List_Price: float (nullable = true)\n",
      " |-- Sale_Price: float (nullable = true)\n",
      " |-- Available: boolean (nullable = true)\n",
      " |-- Product_Url: string (nullable = true)\n",
      "\n"
     ]
    }
   ],
   "source": [
    "#create a separate dataframe for storing product-related data only (as most questions are related to products)\n",
    "\n",
    "df_product= df_walmart.select(\n",
    "    [\"Product_Name\", \"Category\", \"Brand\", \"Description\",\\\n",
    "     \"List_Price\",\"Sale_Price\",\"Available\", \"Product_Url\"])\n",
    "\n",
    "# df_product.show()\n",
    "df_product.printSchema()"
   ]
  },
  {
   "cell_type": "code",
   "execution_count": 11,
   "id": "306c39b5",
   "metadata": {},
   "outputs": [],
   "source": [
    "df_product = df_product.dropDuplicates()\n",
    "\n",
    "# df_product.orderBy(df_product.Product_Name).show()"
   ]
  },
  {
   "cell_type": "code",
   "execution_count": 12,
   "id": "5d8a2dc3",
   "metadata": {},
   "outputs": [],
   "source": [
    "#create sql table for df_walmart and df_product\n",
    "\n",
    "df_walmart.createOrReplaceTempView(\"walmart_table\")\n",
    "df_product.createOrReplaceTempView(\"product_table\")"
   ]
  },
  {
   "cell_type": "markdown",
   "id": "6d320838",
   "metadata": {},
   "source": [
    "# Questions and Solutions"
   ]
  },
  {
   "cell_type": "markdown",
   "id": "2cca1a0e",
   "metadata": {},
   "source": [
    "###       1. Get the Brand along with products associated with it."
   ]
  },
  {
   "cell_type": "code",
   "execution_count": 13,
   "id": "2b33e9d0",
   "metadata": {},
   "outputs": [
    {
     "name": "stderr",
     "output_type": "stream",
     "text": [
      "\r",
      "[Stage 1:>                                                          (0 + 8) / 8]\r",
      "\r",
      "[Stage 1:==============>                                            (2 + 6) / 8]\r"
     ]
    },
    {
     "name": "stdout",
     "output_type": "stream",
     "text": [
      "+-------------------+--------------------+\n",
      "|              Brand|        Product_Name|\n",
      "+-------------------+--------------------+\n",
      "|Business Essentials|Business Essentia...|\n",
      "|Business Essentials|Business Essentia...|\n",
      "|Business Essentials|Business Essentia...|\n",
      "|Business Essentials|Business Essentia...|\n",
      "|                Ace|Celebrations Repl...|\n",
      "|      Box Packaging|Box Packaging Whi...|\n",
      "|          Cybrtrayd|Dimetrodon Lolly ...|\n",
      "|   Rosalind Wheeler|Rosalind Wheeler ...|\n",
      "|         Relief Pak|Digital electric ...|\n",
      "|   Hawaii Pharm LLC|Foxnut (Euryale F...|\n",
      "|    CHOSEN SUPPLIES|Replacement for A...|\n",
      "|      Envelopes.com|A6 Invitation Env...|\n",
      "|Business Essentials|Business Essentia...|\n",
      "|Business Essentials|Business Essentia...|\n",
      "|Business Essentials|Business Essentia...|\n",
      "|Business Essentials|Business Essentia...|\n",
      "|      Envelopes.com|6 1/4 x 6 1/4 Gat...|\n",
      "|      Envelopes.com|6 1/4 x 6 1/4 Gat...|\n",
      "|          Areo Home|Areo Home Wall Bu...|\n",
      "|       SheaMoisture|3 Pack - Shea Moi...|\n",
      "+-------------------+--------------------+\n",
      "only showing top 20 rows\n",
      "\n"
     ]
    },
    {
     "name": "stderr",
     "output_type": "stream",
     "text": [
      "\r",
      "                                                                                \r"
     ]
    }
   ],
   "source": [
    "#sqlway\n",
    "\n",
    "brand_products = spark.sql(\"\"\"\n",
    "                            SELECT Brand, Product_Name\n",
    "                            FROM product_table \n",
    "                            \"\"\")\n",
    "brand_products.show()"
   ]
  },
  {
   "cell_type": "code",
   "execution_count": 14,
   "id": "896d8022",
   "metadata": {},
   "outputs": [],
   "source": [
    "#dataframe way\n",
    "#using df_product and window function\n",
    "\n",
    "import pyspark.sql.functions as f\n",
    "from pyspark.sql import Window\n",
    "import pyspark.sql.types as t"
   ]
  },
  {
   "cell_type": "code",
   "execution_count": 15,
   "id": "78960d7e",
   "metadata": {},
   "outputs": [],
   "source": [
    "windowSpec=Window.partitionBy(\"Brand\")"
   ]
  },
  {
   "cell_type": "code",
   "execution_count": 16,
   "id": "9e9964ee",
   "metadata": {},
   "outputs": [
    {
     "name": "stdout",
     "output_type": "stream",
     "text": [
      "+-------------------+--------------------+\n",
      "|              Brand|        Product_Name|\n",
      "+-------------------+--------------------+\n",
      "|Business Essentials|Business Essentia...|\n",
      "|Business Essentials|Business Essentia...|\n",
      "|Business Essentials|Business Essentia...|\n",
      "|Business Essentials|Business Essentia...|\n",
      "|                Ace|Celebrations Repl...|\n",
      "|      Box Packaging|Box Packaging Whi...|\n",
      "|          Cybrtrayd|Dimetrodon Lolly ...|\n",
      "|   Rosalind Wheeler|Rosalind Wheeler ...|\n",
      "|         Relief Pak|Digital electric ...|\n",
      "|   Hawaii Pharm LLC|Foxnut (Euryale F...|\n",
      "|    CHOSEN SUPPLIES|Replacement for A...|\n",
      "|      Envelopes.com|A6 Invitation Env...|\n",
      "|Business Essentials|Business Essentia...|\n",
      "|Business Essentials|Business Essentia...|\n",
      "|Business Essentials|Business Essentia...|\n",
      "|Business Essentials|Business Essentia...|\n",
      "|      Envelopes.com|6 1/4 x 6 1/4 Gat...|\n",
      "|      Envelopes.com|6 1/4 x 6 1/4 Gat...|\n",
      "|          Areo Home|Areo Home Wall Bu...|\n",
      "|       SheaMoisture|3 Pack - Shea Moi...|\n",
      "+-------------------+--------------------+\n",
      "only showing top 20 rows\n",
      "\n"
     ]
    }
   ],
   "source": [
    "brand_products=df_product.withColumn(\"Products\",f.collect_list(f.col(\"Product_Name\")).over(windowSpec))\n",
    "brand_products.select('Brand', 'Product_Name').show()"
   ]
  },
  {
   "cell_type": "markdown",
   "id": "587283cd",
   "metadata": {},
   "source": [
    "###         2. List all the product names whose list price is greater than sales price"
   ]
  },
  {
   "cell_type": "code",
   "execution_count": 17,
   "id": "05b49894",
   "metadata": {},
   "outputs": [
    {
     "name": "stdout",
     "output_type": "stream",
     "text": [
      "+--------------------+----------+----------+----------+\n",
      "|        Product_Name|List_Price|Sale_Price|Difference|\n",
      "+--------------------+----------+----------+----------+\n",
      "|Celebrations Repl...|      4.59|       3.9|0.69000006|\n",
      "|Areo Home Wall Bu...|     81.99|     36.96|     45.03|\n",
      "|Rayne Mirrors Ame...|    279.99|    259.98|  20.00998|\n",
      "|Color Reinforced ...|      54.7|     41.98| 12.720001|\n",
      "|Rayne Mirrors Ame...|    309.99|    289.98|  20.00998|\n",
      "|Women's Breeze Wa...|     63.99|     44.08|     19.91|\n",
      "|Metal Faux Rhines...|     15.99|      7.57|      8.42|\n",
      "|Kinsman Enterpris...|     51.35|      40.0| 11.349998|\n",
      "|Eros ATT882930 Kn...|    478.63|    354.44|    124.19|\n",
      "|UBesGoo Large Dog...|     19.99|     13.59| 6.3999996|\n",
      "|The Maple Guild O...|     52.66|     45.79|  6.869999|\n",
      "|Bone Shaped Ameri...|     17.37|     13.66|  3.710001|\n",
      "|Rayne Mirrors Ame...|    770.69|    570.78| 199.90997|\n",
      "|MAC Gareth Pugh C...|      44.0|     24.99|     19.01|\n",
      "|UBesGoo Large Dog...|     19.99|     10.59|       9.4|\n",
      "|Unique Bargains K...|     28.99|     14.27| 14.719999|\n",
      "|Buckle-Down Flyin...|     34.99|     29.99|  5.000002|\n",
      "|Women's Breeze Wa...|     74.95|     28.57| 46.379997|\n",
      "|Rayne Mirrors Ame...|    694.16|    514.09| 180.06995|\n",
      "|Eyebright 430 mg ...|     11.79|     10.59| 1.1999998|\n",
      "+--------------------+----------+----------+----------+\n",
      "only showing top 20 rows\n",
      "\n"
     ]
    }
   ],
   "source": [
    "product_names = spark.sql(\"\"\"\n",
    "                          SELECT Product_Name, List_Price, Sale_Price, (List_Price - Sale_Price) as Difference\n",
    "                          FROM product_table\n",
    "                          WHERE List_Price > Sale_Price\n",
    "                            \"\"\")\n",
    "\n",
    "product_names.show()"
   ]
  },
  {
   "cell_type": "code",
   "execution_count": 18,
   "id": "09c80136",
   "metadata": {},
   "outputs": [
    {
     "name": "stdout",
     "output_type": "stream",
     "text": [
      "+--------------------+----------+----------+-------------------+\n",
      "|       Product Names|List Price|Sale Price|Difference in Price|\n",
      "+--------------------+----------+----------+-------------------+\n",
      "|Celebrations Repl...|      4.59|       3.9|         0.69000006|\n",
      "|Areo Home Wall Bu...|     81.99|     36.96|              45.03|\n",
      "|Rayne Mirrors Ame...|    279.99|    259.98|           20.00998|\n",
      "|Color Reinforced ...|      54.7|     41.98|          12.720001|\n",
      "|Rayne Mirrors Ame...|    309.99|    289.98|           20.00998|\n",
      "|Women's Breeze Wa...|     63.99|     44.08|              19.91|\n",
      "|Metal Faux Rhines...|     15.99|      7.57|               8.42|\n",
      "|Kinsman Enterpris...|     51.35|      40.0|          11.349998|\n",
      "|Eros ATT882930 Kn...|    478.63|    354.44|             124.19|\n",
      "|UBesGoo Large Dog...|     19.99|     13.59|          6.3999996|\n",
      "|The Maple Guild O...|     52.66|     45.79|           6.869999|\n",
      "|Bone Shaped Ameri...|     17.37|     13.66|           3.710001|\n",
      "|Rayne Mirrors Ame...|    770.69|    570.78|          199.90997|\n",
      "|MAC Gareth Pugh C...|      44.0|     24.99|              19.01|\n",
      "|UBesGoo Large Dog...|     19.99|     10.59|                9.4|\n",
      "|Unique Bargains K...|     28.99|     14.27|          14.719999|\n",
      "|Buckle-Down Flyin...|     34.99|     29.99|           5.000002|\n",
      "|Women's Breeze Wa...|     74.95|     28.57|          46.379997|\n",
      "|Rayne Mirrors Ame...|    694.16|    514.09|          180.06995|\n",
      "|Eyebright 430 mg ...|     11.79|     10.59|          1.1999998|\n",
      "+--------------------+----------+----------+-------------------+\n",
      "only showing top 20 rows\n",
      "\n"
     ]
    }
   ],
   "source": [
    "#dfway\n",
    "from pyspark.sql.functions import col\n",
    "\n",
    "product_names_df = df_product.filter(col('List_Price') > col('Sale_Price')).select(col('Product_Name')\\\n",
    "                  .alias(\"Product Names\"), col('List_Price').alias(\"List Price\"), col('Sale_Price')\\\n",
    "                  .alias(\"Sale Price\"),\\\n",
    "                  (col('List_Price')-col('Sale_Price')).alias('Difference in Price'))\\\n",
    "\n",
    "product_names_df.show()"
   ]
  },
  {
   "cell_type": "markdown",
   "id": "99fa5345",
   "metadata": {},
   "source": [
    "###       3. Count the number of product names whose list price is greater than sales price"
   ]
  },
  {
   "cell_type": "code",
   "execution_count": 19,
   "id": "a4d0647c",
   "metadata": {},
   "outputs": [
    {
     "name": "stdout",
     "output_type": "stream",
     "text": [
      "+------------------+\n",
      "|Number_of_Products|\n",
      "+------------------+\n",
      "|              1145|\n",
      "+------------------+\n",
      "\n"
     ]
    }
   ],
   "source": [
    "#sqlway\n",
    "\n",
    "product_names.createOrReplaceTempView(\"product_names_tbl\")\n",
    "\n",
    "number_of_products = spark.sql(\"\"\"\n",
    "                                SELECT COUNT(Product_Name) as Number_of_Products\n",
    "                                FROM product_names_tbl                                \n",
    "                                \"\"\")\n",
    "\n",
    "number_of_products.show()"
   ]
  },
  {
   "cell_type": "code",
   "execution_count": 20,
   "id": "0248e1ea",
   "metadata": {},
   "outputs": [
    {
     "data": {
      "text/plain": [
       "1145"
      ]
     },
     "execution_count": 20,
     "metadata": {},
     "output_type": "execute_result"
    }
   ],
   "source": [
    "#dfway\n",
    "\n",
    "product_names_df.count()"
   ]
  },
  {
   "cell_type": "markdown",
   "id": "29326cc2",
   "metadata": {},
   "source": [
    "###       4. List all the products belong to a “women” category."
   ]
  },
  {
   "cell_type": "code",
   "execution_count": 21,
   "id": "1cb469b4",
   "metadata": {},
   "outputs": [
    {
     "name": "stdout",
     "output_type": "stream",
     "text": [
      "+--------------------+--------------------+\n",
      "|        Product_Name|            Category|\n",
      "+--------------------+--------------------+\n",
      "|Women's Breeze Wa...|Clothing|Shoes|Wo...|\n",
      "|Women's Breeze Wa...|Clothing|Shoes|Wo...|\n",
      "|Women's Breeze Wa...|Clothing|Shoes|Wo...|\n",
      "|Classique 766 Pos...|Clothing|Women|Wo...|\n",
      "|Women's Breeze Wa...|Clothing|Shoes|Wo...|\n",
      "|Handmade Glass Pe...|Jewelry|Womens Je...|\n",
      "|Women's Breeze Wa...|Clothing|Shoes|Wo...|\n",
      "|Women's Breeze Wa...|Clothing|Shoes|Wo...|\n",
      "|Women's Breeze Wa...|Clothing|Shoes|Wo...|\n",
      "|Women's Breeze Wa...|Clothing|Shoes|Wo...|\n",
      "|Women's Breeze Wa...|Clothing|Shoes|Wo...|\n",
      "|The Wonder Years ...|Clothing|Women|Wo...|\n",
      "|Women's Breeze Wa...|Clothing|Shoes|Wo...|\n",
      "|Women's Breeze Wa...|Clothing|Shoes|Wo...|\n",
      "|Women's Breeze Wa...|Clothing|Shoes|Wo...|\n",
      "|Women's Breeze Wa...|Clothing|Shoes|Wo...|\n",
      "|Women's Breeze Wa...|Clothing|Shoes|Wo...|\n",
      "|Women's Breeze Wa...|Clothing|Shoes|Wo...|\n",
      "|Women's Breeze Wa...|Clothing|Shoes|Wo...|\n",
      "|Ames Walker AW St...|Clothing|Women|Wo...|\n",
      "+--------------------+--------------------+\n",
      "only showing top 20 rows\n",
      "\n"
     ]
    }
   ],
   "source": [
    "#sqlway\n",
    "\n",
    "women_products = spark.sql(\"\"\"\n",
    "                            SELECT Product_Name, Category\n",
    "                            FROM product_table\n",
    "                            WHERE Category LIKE \"%Women%\" \n",
    "                            OR Category LIKE \"%women%\"\n",
    "                        \"\"\")\n",
    "women_products.show()"
   ]
  },
  {
   "cell_type": "code",
   "execution_count": 22,
   "id": "986161f0",
   "metadata": {},
   "outputs": [
    {
     "name": "stdout",
     "output_type": "stream",
     "text": [
      "+--------------------+--------------------+\n",
      "|        Product_Name|            Category|\n",
      "+--------------------+--------------------+\n",
      "|Classique 766 Pos...|Clothing|Women|Wo...|\n",
      "|Owl shaped keycha...|Clothing|Bags & A...|\n",
      "|Secret Key Hider,...|Clothing|Bags & A...|\n",
      "|  Stanford Key Chain|Clothing|Bags & A...|\n",
      "|The Wonder Years ...|Clothing|Women|Wo...|\n",
      "|Handmade Glass Pe...|Jewelry|Womens Je...|\n",
      "|Keychain - F-16 F...|Clothing|Bags & A...|\n",
      "|Diabetic Bamboo Q...|Clothing|Women|Wo...|\n",
      "|Women's Breeze Wa...|Clothing|Shoes|Wo...|\n",
      "|Ames Walker AW St...|Clothing|Women|Wo...|\n",
      "|Celtic Knot Weave...|Clothing|Bags & A...|\n",
      "|Monarch M-initial...|Clothing|Bags & A...|\n",
      "|Ramones Plastic K...|Clothing|Bags & A...|\n",
      "|Instant Gift Phot...|Clothing|Bags & A...|\n",
      "|Retro Owl Time Ge...|Clothing|Bags & A...|\n",
      "|KEY-BAK SUPER48 X...|Clothing|Bags & A...|\n",
      "|Keychain - Soccer...|Clothing|Bags & A...|\n",
      "|Crew Diabetic Soc...|Clothing|Women|Wo...|\n",
      "|Gemstone Globe Br...|Clothing|Bags & A...|\n",
      "|Smart Blonde KC-8...|Clothing|Bags & A...|\n",
      "+--------------------+--------------------+\n",
      "only showing top 20 rows\n",
      "\n"
     ]
    }
   ],
   "source": [
    "#dfway\n",
    "\n",
    "df_product.where(col('Category').contains('Women') | col('Category').contains('women'))\\\n",
    "                .select('Product_Name', 'Category').distinct().show()             "
   ]
  },
  {
   "cell_type": "markdown",
   "id": "628ada02",
   "metadata": {},
   "source": [
    "###      5. List the products which are not available."
   ]
  },
  {
   "cell_type": "code",
   "execution_count": 23,
   "id": "a17ab505",
   "metadata": {},
   "outputs": [
    {
     "name": "stdout",
     "output_type": "stream",
     "text": [
      "+--------------------+------------+\n",
      "|        Product_Name|Availability|\n",
      "+--------------------+------------+\n",
      "|Hudson Baby Boy a...|       false|\n",
      "|MoYo Natural Labs...|       false|\n",
      "|Chergui Eau De Pa...|       false|\n",
      "|PB3655R Red 10 In...|       false|\n",
      "|\"Cure For All Dou...|       false|\n",
      "|Gillette Fusion P...|       false|\n",
      "|Ebe Women Reading...|       false|\n",
      "|Revlon Photo Read...|       false|\n",
      "|MATRIX Total Resu...|       false|\n",
      "|Solid Dog Polo by...|       false|\n",
      "|Travel Cosmetic M...|       false|\n",
      "|Makeup Brushes Pr...|       false|\n",
      "|Frosted Clear Gla...|       false|\n",
      "|Toujours Moi Set-...|       false|\n",
      "|Dimmable 8W MR16 ...|       false|\n",
      "|NARS Night Series...|       false|\n",
      "|Holiday Time 8 Ct...|       false|\n",
      "|DuraGlobe Monthly...|       false|\n",
      "|Business Essentia...|       false|\n",
      "|Ebe Prescription ...|       false|\n",
      "+--------------------+------------+\n",
      "only showing top 20 rows\n",
      "\n"
     ]
    }
   ],
   "source": [
    "# SQL way\n",
    "unavailable_products = spark.sql(\"\"\"\n",
    "                            SELECT DISTINCT(Product_Name), Available as Availability\n",
    "                            FROM product_table\n",
    "                            WHERE Available = FALSE\n",
    "                        \"\"\")\n",
    "\n",
    "unavailable_products.show()"
   ]
  },
  {
   "cell_type": "code",
   "execution_count": 24,
   "id": "071eb2ba",
   "metadata": {},
   "outputs": [
    {
     "name": "stdout",
     "output_type": "stream",
     "text": [
      "+--------------------+--------------------+-------------------+--------------------+----------+----------+---------+--------------------+\n",
      "|        Product_Name|            Category|              Brand|         Description|List_Price|Sale_Price|Available|         Product_Url|\n",
      "+--------------------+--------------------+-------------------+--------------------+----------+----------+---------+--------------------+\n",
      "|Business Essentia...|Office|Shipping &...|Business Essentials|Use Business Esse...|     31.16|     31.16|    false|https://www.walma...|\n",
      "|Business Essentia...|Office|Shipping &...|Business Essentials|Use Business Esse...|     51.23|     51.23|    false|https://www.walma...|\n",
      "|Business Essentia...|Office|Shipping &...|Business Essentials|Use Business Esse...|     55.63|     55.63|    false|https://www.walma...|\n",
      "|Rosalind Wheeler ...|Office|Boards & E...|   Rosalind Wheeler|Features: -Made i...|    240.31|    240.31|    false|https://www.walma...|\n",
      "|6 1/4 x 6 1/4 Gat...|Office|Envelopes ...|      Envelopes.com|Announce your eve...|     65.95|     65.95|    false|https://www.walma...|\n",
      "|Areo Home Wall Bu...|Home|Decor|Art & ...|          Areo Home|Display succulent...|     81.99|     36.96|    false|https://www.walma...|\n",
      "|STC211 30 Inch x ...|Industrial & Scie...|                   | Printed Open End...|    100.56|    100.56|    false|https://www.walma...|\n",
      "|Business Essentia...|Office|Shipping &...|Business Essentials|Use Business Esse...|     34.94|     34.94|    false|https://www.walma...|\n",
      "|Business Essentia...|Office|Shipping &...|Business Essentials|Use Business Esse...|     43.82|     43.82|    false|https://www.walma...|\n",
      "|Eye Buy Express K...|Health|Home Healt...|    Eye Buy Express|Pastel pink oval ...|     33.99|     33.99|    false|https://www.walma...|\n",
      "|Business Essentia...|Office|Shipping &...|Business Essentials|Use Business Esse...|     58.19|     58.19|    false|https://www.walma...|\n",
      "|Business Essentia...|Office|Shipping &...|Business Essentials|Use Business Esse...|      56.0|      56.0|    false|https://www.walma...|\n",
      "|Heepo 6 Pcs Smoot...|  Beauty|Makeup|Eyes|              Heepo|Specifications: E...|      5.49|      5.49|    false|https://www.walma...|\n",
      "|3 Pack - CHI Volu...|Beauty|Hair Care|...|                CHI|Pack of 3 for the...|      36.6|      36.6|    false|https://www.walma...|\n",
      "|(3 Pack) CHINA GL...| Beauty|Makeup|Nails|        China Glaze| China Glaze Bran...|     13.56|     13.56|    false|https://www.walma...|\n",
      "|Business Essentia...|Office|Shipping &...|Business Essentials|Use Business Esse...|     31.21|     31.21|    false|https://www.walma...|\n",
      "|Oliga Calura Perm...|Beauty|Hair Care|...|       Oliga Calura||Oliga Calura Per...|      8.99|      8.99|    false|https://www.walma...|\n",
      "|Double Wear Stay ...|  Beauty|Makeup|Face|       Estee Lauder||Double Wear Stay...|     52.53|     52.53|    false|https://www.walma...|\n",
      "|Poland Spring Nat...|Food|Beverages|Wa...|      Poland Spring|Water, Natural Sp...|      null|      null|    false|https://www.walma...|\n",
      "|Business Essentia...|Office|Shipping &...|Business Essentials|Use Business Esse...|     57.25|     57.25|    false|https://www.walma...|\n",
      "+--------------------+--------------------+-------------------+--------------------+----------+----------+---------+--------------------+\n",
      "only showing top 20 rows\n",
      "\n"
     ]
    }
   ],
   "source": [
    "#dfway\n",
    "\n",
    "df_product.filter(df_product['Available'] == 'False').show()"
   ]
  },
  {
   "cell_type": "code",
   "execution_count": 25,
   "id": "5495e632",
   "metadata": {},
   "outputs": [
    {
     "name": "stdout",
     "output_type": "stream",
     "text": [
      "+--------------------+---------+\n",
      "|        Product_Name|Available|\n",
      "+--------------------+---------+\n",
      "|Business Essentia...|    false|\n",
      "|Business Essentia...|    false|\n",
      "|Business Essentia...|    false|\n",
      "|Rosalind Wheeler ...|    false|\n",
      "|6 1/4 x 6 1/4 Gat...|    false|\n",
      "|Areo Home Wall Bu...|    false|\n",
      "|STC211 30 Inch x ...|    false|\n",
      "|Business Essentia...|    false|\n",
      "|Business Essentia...|    false|\n",
      "|Eye Buy Express K...|    false|\n",
      "|Business Essentia...|    false|\n",
      "|Business Essentia...|    false|\n",
      "|Heepo 6 Pcs Smoot...|    false|\n",
      "|3 Pack - CHI Volu...|    false|\n",
      "|(3 Pack) CHINA GL...|    false|\n",
      "|Business Essentia...|    false|\n",
      "|Oliga Calura Perm...|    false|\n",
      "|Double Wear Stay ...|    false|\n",
      "|Poland Spring Nat...|    false|\n",
      "|Business Essentia...|    false|\n",
      "+--------------------+---------+\n",
      "only showing top 20 rows\n",
      "\n"
     ]
    }
   ],
   "source": [
    "# df way\n",
    "\n",
    "df_product.select([\"Product_Name\", \"Available\"]).where(df_product.Available == \"FALSE\").show()"
   ]
  },
  {
   "cell_type": "markdown",
   "id": "8b4a1cc4",
   "metadata": {},
   "source": [
    "###         6. Count the number of products which are available."
   ]
  },
  {
   "cell_type": "code",
   "execution_count": 26,
   "id": "2347a1a3",
   "metadata": {},
   "outputs": [
    {
     "name": "stdout",
     "output_type": "stream",
     "text": [
      "+-------------------+\n",
      "|count(Product_Name)|\n",
      "+-------------------+\n",
      "|               4990|\n",
      "+-------------------+\n",
      "\n"
     ]
    }
   ],
   "source": [
    "#sqlway\n",
    "#counting all products that are available\n",
    "\n",
    "products_count = spark.sql(\"\"\"\n",
    "                            SELECT COUNT(Product_Name)\n",
    "                            FROM product_table\n",
    "                            WHERE Available = TRUE\"\"\")\n",
    "\n",
    "products_count.show()"
   ]
  },
  {
   "cell_type": "code",
   "execution_count": 27,
   "id": "dad2f43a",
   "metadata": {},
   "outputs": [
    {
     "data": {
      "text/plain": [
       "4990"
      ]
     },
     "execution_count": 27,
     "metadata": {},
     "output_type": "execute_result"
    }
   ],
   "source": [
    "#dfway\n",
    "\n",
    "df_product.filter(df_product['Available']== True).count()"
   ]
  },
  {
   "cell_type": "markdown",
   "id": "603c03e5",
   "metadata": {},
   "source": [
    "###         7. List the products that are made up of Nylon."
   ]
  },
  {
   "cell_type": "code",
   "execution_count": 28,
   "id": "75cc42ab",
   "metadata": {},
   "outputs": [
    {
     "name": "stdout",
     "output_type": "stream",
     "text": [
      "+--------------------+--------------------+\n",
      "|        Product_Name|         Description|\n",
      "+--------------------+--------------------+\n",
      "|Country Brook Des...|Country Brook Des...|\n",
      "|Plain Nylon Dog C...|Plain Nylon Dog C...|\n",
      "|Country Brook Des...|Made by hand in t...|\n",
      "|Ames Walker AW St...|There's a reason ...|\n",
      "|Pre-Vent II Serie...|Part #36810500 - ...|\n",
      "|Unique Bargains A...|Description: It i...|\n",
      "|Country Brook Pet...|Half check collar...|\n",
      "|Doco DCA201-18XL ...|Puffy air mesh st...|\n",
      "|Doco DCROPE2072-0...|Reflective rope l...|\n",
      "|comfortable Flex-...|High quality Magn...|\n",
      "|Sigvaris Advance ...|Sigvaris Advance ...|\n",
      "|Pug Life Puppy Ca...|A versatile toile...|\n",
      "|Extra large Profe...|Extra large Profe...|\n",
      "|Coastal Pet Nylon...|This lead consist...|\n",
      "|L'Oreal Paris Inf...|This is the Long-...|\n",
      "|Country Brook Des...|Country Brook Des...|\n",
      "|Coastal Pet Produ...|Coastal Pet Produ...|\n",
      "|Anti-Embolism Sto...||Blue Jay Brand *...|\n",
      "|Unique Bargains P...|Package Content: ...|\n",
      "|DJO ProCare Elbow...|DJO ProCare Elbow...|\n",
      "+--------------------+--------------------+\n",
      "only showing top 20 rows\n",
      "\n"
     ]
    },
    {
     "data": {
      "text/plain": [
       "77"
      ]
     },
     "execution_count": 28,
     "metadata": {},
     "output_type": "execute_result"
    }
   ],
   "source": [
    "#sqlway\n",
    "\n",
    "products = spark.sql(\"\"\"\n",
    "                        SELECT DISTINCT(Product_Name), Description \n",
    "                        FROM product_table \n",
    "                        WHERE Description LIKE \"%Nylon%\" \n",
    "                        OR Description LIKE \"%nylon%\" \n",
    "                    \"\"\")\n",
    "products.show()\n",
    "products.count()"
   ]
  },
  {
   "cell_type": "code",
   "execution_count": 29,
   "id": "2f4fad7d",
   "metadata": {},
   "outputs": [
    {
     "name": "stdout",
     "output_type": "stream",
     "text": [
      "+--------------------+--------------------+\n",
      "|        Product_Name|         Description|\n",
      "+--------------------+--------------------+\n",
      "|Country Brook Des...|Country Brook Des...|\n",
      "|Plain Nylon Dog C...|Plain Nylon Dog C...|\n",
      "|Country Brook Des...|Made by hand in t...|\n",
      "|Ames Walker AW St...|There's a reason ...|\n",
      "|Pre-Vent II Serie...|Part #36810500 - ...|\n",
      "|Unique Bargains A...|Description: It i...|\n",
      "|Country Brook Pet...|Half check collar...|\n",
      "|Doco DCA201-18XL ...|Puffy air mesh st...|\n",
      "|Doco DCROPE2072-0...|Reflective rope l...|\n",
      "|comfortable Flex-...|High quality Magn...|\n",
      "|Sigvaris Advance ...|Sigvaris Advance ...|\n",
      "|Pug Life Puppy Ca...|A versatile toile...|\n",
      "|Extra large Profe...|Extra large Profe...|\n",
      "|Coastal Pet Nylon...|This lead consist...|\n",
      "|L'Oreal Paris Inf...|This is the Long-...|\n",
      "|Country Brook Des...|Country Brook Des...|\n",
      "|Coastal Pet Produ...|Coastal Pet Produ...|\n",
      "|Anti-Embolism Sto...||Blue Jay Brand *...|\n",
      "|Unique Bargains P...|Package Content: ...|\n",
      "|DJO ProCare Elbow...|DJO ProCare Elbow...|\n",
      "+--------------------+--------------------+\n",
      "only showing top 20 rows\n",
      "\n"
     ]
    },
    {
     "data": {
      "text/plain": [
       "77"
      ]
     },
     "execution_count": 29,
     "metadata": {},
     "output_type": "execute_result"
    }
   ],
   "source": [
    "#dfway\n",
    "\n",
    "df_product.where(col('Description').contains('Nylon') | col('Description').contains('nylon'))\\\n",
    "                .select('Product_Name', 'Description').distinct().show()\n",
    "\n",
    "#counting to make sure \n",
    "df_product.where(col('Description').contains('Nylon') | col('Description').contains('nylon'))\\\n",
    "                .select('Product_Name', 'Description').distinct().count()"
   ]
  }
 ],
 "metadata": {
  "kernelspec": {
   "display_name": "Python 3 (ipykernel)",
   "language": "python",
   "name": "python3"
  },
  "language_info": {
   "codemirror_mode": {
    "name": "ipython",
    "version": 3
   },
   "file_extension": ".py",
   "mimetype": "text/x-python",
   "name": "python",
   "nbconvert_exporter": "python",
   "pygments_lexer": "ipython3",
   "version": "3.10.6"
  }
 },
 "nbformat": 4,
 "nbformat_minor": 5
}
